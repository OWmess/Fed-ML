{
 "cells": [
  {
   "cell_type": "code",
   "execution_count": 26,
   "id": "0",
   "metadata": {
    "ExecuteTime": {
     "end_time": "2024-03-19T11:24:47.213298Z",
     "start_time": "2024-03-19T11:24:47.192711Z"
    }
   },
   "outputs": [
    {
     "name": "stdout",
     "output_type": "stream",
     "text": [
      "sy.__version__ = '0.8.4'\n"
     ]
    }
   ],
   "source": [
    "# third party\n",
    "import matplotlib.pyplot as plt\n",
    "\n",
    "# relative import\n",
    "from mnist_dataset import mnist\n",
    "from mnist_dataset import mnist_raw\n",
    "import numpy as np\n",
    "\n",
    "# syft absolute\n",
    "import syft as sy\n",
    "\n",
    "print(f\"{sy.__version__ = }\")"
   ]
  },
  {
   "cell_type": "markdown",
   "id": "1",
   "metadata": {},
   "source": [
    "## 1. Launch the domain, upload the data"
   ]
  },
  {
   "cell_type": "code",
   "execution_count": 27,
   "id": "2",
   "metadata": {
    "ExecuteTime": {
     "end_time": "2024-03-19T11:25:04.784245Z",
     "start_time": "2024-03-19T11:24:47.574874Z"
    }
   },
   "outputs": [
    {
     "name": "stdout",
     "output_type": "stream",
     "text": [
      "Staging Protocol Changes...\n",
      "SQLite Store Path:\n",
      "!open file://C:\\Users\\q1162\\AppData\\Local\\Temp\\18fc0a5681da44b196db9e9427744187.sqlite\n",
      "Creating default worker image with tag='local-dev'\n",
      "Building default worker image with tag=local-dev\n",
      "Setting up worker poolname=default-pool workers=0 image_uid=54c8d2fc5e774c96a37ba10ce94d6d09 in_memory=True\n",
      "Created default worker pool.\n",
      "Data Migrated to latest version !!!\n",
      "Logged into <mnist-domain: High side Domain> as <info@openmined.org>\n"
     ]
    },
    {
     "data": {
      "text/plain": "SyftWarning: You are using a default password. Please change the password using `[your_client].me.set_password([new_password])`.",
      "text/html": "<div class=\"alert-warning\" style=\"padding:5px;\"><strong>SyftWarning</strong>: You are using a default password. Please change the password using `[your_client].me.set_password([new_password])`.</div><br />"
     },
     "metadata": {},
     "output_type": "display_data"
    }
   ],
   "source": [
    "node = sy.orchestra.launch(name=\"mnist-domain\", dev_mode=True, reset=True)\n",
    "root_client = node.login(email=\"info@openmined.org\", password=\"changethis\")"
   ]
  },
  {
   "cell_type": "markdown",
   "id": "3",
   "metadata": {},
   "source": [
    "### Load the MNIST dataset"
   ]
  },
  {
   "cell_type": "markdown",
   "id": "4",
   "metadata": {},
   "source": [
    "Let's load the raw MNIST images and show with the `mnist_raw` function from [`mnist_datasets.py`](./datasets.py)"
   ]
  },
  {
   "cell_type": "code",
   "execution_count": 28,
   "id": "5",
   "metadata": {
    "ExecuteTime": {
     "end_time": "2024-03-19T11:25:05.137505Z",
     "start_time": "2024-03-19T11:25:04.786762Z"
    }
   },
   "outputs": [],
   "source": [
    "train_images, train_labels, _, _ = mnist_raw()"
   ]
  },
  {
   "cell_type": "code",
   "execution_count": 29,
   "id": "6",
   "metadata": {
    "ExecuteTime": {
     "end_time": "2024-03-19T11:25:05.291479Z",
     "start_time": "2024-03-19T11:25:05.139850Z"
    }
   },
   "outputs": [
    {
     "name": "stdout",
     "output_type": "stream",
     "text": [
      "train image num: 60000\n"
     ]
    },
    {
     "data": {
      "text/plain": "<matplotlib.image.AxesImage at 0x1d6b77a68b0>"
     },
     "execution_count": 29,
     "metadata": {},
     "output_type": "execute_result"
    },
    {
     "data": {
      "text/plain": "<Figure size 640x480 with 1 Axes>",
      "image/png": "[encoded data removed]"
     },
     "metadata": {},
     "output_type": "display_data"
    }
   ],
   "source": [
    "print(\"train image num: \"+str(len(train_images)))\n",
    "plt.imshow(train_images[0])"
   ]
  },
  {
   "cell_type": "code",
   "execution_count": 30,
   "id": "7",
   "metadata": {
    "ExecuteTime": {
     "end_time": "2024-03-19T11:25:05.306752Z",
     "start_time": "2024-03-19T11:25:05.293819Z"
    }
   },
   "outputs": [
    {
     "data": {
      "text/plain": "5"
     },
     "execution_count": 30,
     "metadata": {},
     "output_type": "execute_result"
    }
   ],
   "source": [
    "train_labels[0]"
   ]
  },
  {
   "cell_type": "code",
   "execution_count": 31,
   "id": "8",
   "metadata": {
    "ExecuteTime": {
     "end_time": "2024-03-19T11:25:05.322027Z",
     "start_time": "2024-03-19T11:25:05.310266Z"
    }
   },
   "outputs": [
    {
     "name": "stdout",
     "output_type": "stream",
     "text": [
      "train_images.shape = (60000, 28, 28)\n",
      "train_labels.shape = (60000,)\n"
     ]
    }
   ],
   "source": [
    "print(f\"{train_images.shape = }\")\n",
    "print(f\"{train_labels.shape = }\")"
   ]
  },
  {
   "cell_type": "markdown",
   "id": "9",
   "metadata": {},
   "source": [
    "### Processing: Flattening the MNIST images and apply one-hot encoding on the labels"
   ]
  },
  {
   "cell_type": "code",
   "execution_count": 32,
   "id": "10",
   "metadata": {
    "ExecuteTime": {
     "end_time": "2024-03-19T11:25:05.765015Z",
     "start_time": "2024-03-19T11:25:05.324084Z"
    }
   },
   "outputs": [],
   "source": [
    "train_images, train_labels, _, _ = mnist()"
   ]
  },
  {
   "cell_type": "markdown",
   "id": "11",
   "metadata": {},
   "source": [
    "### Get a subset of MNIST"
   ]
  },
  {
   "cell_type": "code",
   "execution_count": 33,
   "id": "12",
   "metadata": {
    "ExecuteTime": {
     "end_time": "2024-03-19T11:25:05.780434Z",
     "start_time": "2024-03-19T11:25:05.766530Z"
    }
   },
   "outputs": [],
   "source": [
    "num_samples = 1000"
   ]
  },
  {
   "cell_type": "code",
   "execution_count": 34,
   "id": "13",
   "metadata": {
    "ExecuteTime": {
     "end_time": "2024-03-19T11:25:05.795811Z",
     "start_time": "2024-03-19T11:25:05.782492Z"
    }
   },
   "outputs": [],
   "source": [
    "train_images = train_images[:num_samples, :]\n",
    "train_labels = train_labels[:num_samples, :]"
   ]
  },
  {
   "cell_type": "code",
   "execution_count": 35,
   "id": "14",
   "metadata": {
    "ExecuteTime": {
     "end_time": "2024-03-19T11:25:05.811206Z",
     "start_time": "2024-03-19T11:25:05.798334Z"
    }
   },
   "outputs": [
    {
     "name": "stdout",
     "output_type": "stream",
     "text": [
      "train_images.shape = (1000, 784)\n",
      "train_labels.shape = (1000, 10)\n"
     ]
    }
   ],
   "source": [
    "print(f\"{train_images.shape = }\")\n",
    "print(f\"{train_labels.shape = }\")"
   ]
  },
  {
   "cell_type": "markdown",
   "id": "15",
   "metadata": {},
   "source": [
    "The `train_images` and `train_labels` are the private data. Let's create similar mock data with the same shape"
   ]
  },
  {
   "cell_type": "code",
   "execution_count": 36,
   "id": "16",
   "metadata": {
    "ExecuteTime": {
     "end_time": "2024-03-19T11:25:05.841769Z",
     "start_time": "2024-03-19T11:25:05.813259Z"
    }
   },
   "outputs": [
    {
     "data": {
      "text/plain": "(1000, 784)",
      "text/html": "(1000, 784)"
     },
     "execution_count": 36,
     "metadata": {},
     "output_type": "execute_result"
    }
   ],
   "source": [
    "mock_images = np.random.rand(num_samples, 784)\n",
    "mock_images.shape"
   ]
  },
  {
   "cell_type": "code",
   "execution_count": 37,
   "id": "17",
   "metadata": {
    "ExecuteTime": {
     "end_time": "2024-03-19T11:25:05.857041Z",
     "start_time": "2024-03-19T11:25:05.844286Z"
    }
   },
   "outputs": [
    {
     "data": {
      "text/plain": "(1000, 10)",
      "text/html": "(1000, 10)"
     },
     "execution_count": 37,
     "metadata": {},
     "output_type": "execute_result"
    }
   ],
   "source": [
    "mock_labels = np.eye(10)[np.random.choice(10, num_samples)]\n",
    "mock_labels.shape"
   ]
  },
  {
   "cell_type": "code",
   "execution_count": 38,
   "id": "18",
   "metadata": {
    "ExecuteTime": {
     "end_time": "2024-03-19T11:25:05.872250Z",
     "start_time": "2024-03-19T11:25:05.858557Z"
    }
   },
   "outputs": [],
   "source": [
    "assert mock_labels.shape == train_labels.shape\n",
    "assert mock_images.shape == train_images.shape"
   ]
  },
  {
   "cell_type": "markdown",
   "id": "19",
   "metadata": {},
   "source": [
    "### The DO uploads the data"
   ]
  },
  {
   "cell_type": "code",
   "execution_count": 39,
   "id": "20",
   "metadata": {
    "ExecuteTime": {
     "end_time": "2024-03-19T11:25:05.887867Z",
     "start_time": "2024-03-19T11:25:05.874949Z"
    }
   },
   "outputs": [
    {
     "data": {
      "text/plain": "{syft.service.dataset.dataset.Contributor}",
      "text/html": "\n<style>\n  body[data-jp-theme-light='false'] {\n        --primary-color: #111111;\n        --secondary-color: #212121;\n        --tertiary-color: #CFCDD6;\n        --button-color: #111111;\n  }\n\n  body {\n        --primary-color: #ffffff;\n        --secondary-color: #f5f5f5;\n        --tertiary-color: #000000de;\n        --button-color: #d1d5db;\n  }\n\n  .header-1 {\n        font-style: normal;\n        font-weight: 600;\n        font-size: 2.0736em;\n        line-height: 100%;\n        leading-trim: both;\n        text-edge: cap;\n        color: #17161D;\n    }\n\n  .header-2 {\n        font-style: normal;\n        font-weight: 600;\n        font-size: 1.728em;\n        line-height: 100%;\n        leading-trim: both;\n        text-edge: cap;\n        color: #17161D;\n    }\n\n  .header-3 {\n        font-style: normal;\n        font-weight: 600;\n        font-size:  1.44em;\n        line-height: 100%;\n        leading-trim: both;\n        text-edge: cap;\n        color: var(--tertiary-color);\n    }\n\n  .header-4 {\n        font-style: normal;\n        font-weight: 600;\n        font-size: 1.2em;\n        line-height: 100%;\n        leading-trim: both;\n        text-edge: cap;\n        color: #17161D;\n    }\n\n    .paragraph {\n        font-style: normal;\n        font-weight: 400;\n        font-size: 14px;\n        line-height: 100%;\n        leading-trim: both;\n        text-edge: cap;\n        color: #2E2B3B;\n    }\n\n    .paragraph-sm {\n        font-family: 'Roboto';\n        font-style: normal;\n        font-weight: 400;\n        font-size: 11.62px;\n        line-height: 100%;\n        leading-trim: both;\n        text-edge: cap;\n        color: #2E2B3B;\n    }\n    .code-text {\n        font-family: 'Consolas';\n        font-style: normal;\n        font-weight: 400;\n        font-size: 13px;\n        line-height: 130%;\n        leading-trim: both;\n        text-edge: cap;\n        color: #2E2B3B;\n    }\n\n    .numbering-entry { display: none }\n\n    /* Tooltip container */\n    .tooltip {\n        position: relative;\n        display: inline-block;\n        border-bottom: 1px dotted black; /* If you want dots under the hoverable text */\n    }\n\n    /* Tooltip text */\n    .tooltip .tooltiptext {\n        visibility: hidden;\n        width: 120px;\n        background-color: black;\n        color: #fff;\n        text-align: center;\n        padding: 5px 0;\n        border-radius: 6px;\n\n        /* Position the tooltip text - see examples below! */\n        position: absolute;\n        z-index: 1;\n    }\n\n    .repr-cell {\n      padding-top: 20px;\n    }\n\n    .text-bold {\n        font-weight: bold;\n    }\n\n    .pr-8 {\n        padding-right: 8px;\n    }\n    .pt-8 {\n        padding-top: 8px;\n    }\n    .pl-8 {\n        padding-left: 8px;\n    }\n    .pb-8 {\n        padding-bottom: 8px;\n    }\n\n    .py-25{\n        padding-top: 25px;\n        padding-bottom: 25px;\n    }\n\n    .flex {\n        display: flex;\n    }\n\n    .gap-10 {\n        gap: 10px;\n    }\n    .items-center{\n        align-items: center;\n    }\n\n    .folder-icon {\n        color: var(--tertiary-color);\n    }\n\n    .search-input{\n        display: flex;\n        flex-direction: row;\n        align-items: center;\n        padding: 8px 12px;\n        width: 343px;\n        height: 24px;\n        /* Lt On Surface/Low */\n        background-color: var(--secondary-color);\n        border-radius: 30px;\n\n        /* Lt On Surface/Highest */\n        color: var(--tertiary-color);\n        border:none;\n        /* Inside auto layout */\n        flex: none;\n        order: 0;\n        flex-grow: 0;\n    }\n    .search-input:focus {\n        outline: none;\n    }\n        .search-input:focus::placeholder,\n    .search-input::placeholder { /* Chrome, Firefox, Opera, Safari 10.1+ */\n        color: var(--tertiary-color);\n        opacity: 1; /* Firefox */\n    }\n\n    .search-button{\n        /* Search */\n        leading-trim: both;\n        text-edge: cap;\n        display: flex;\n        align-items: center;\n        text-align: center;\n\n        /* Primary/On Light */\n        background-color: var(--button-color);\n        color: var(--tertiary-color);\n\n        border-radius: 30px;\n        border-color: var(--secondary-color);\n        border-style: solid;\n        box-shadow: rgba(60, 64, 67, 0.3) 0px 1px 2px 0px, rgba(60, 64, 67, 0.15) 0px 1px 3px 1px;\n        cursor: pointer;\n        /* Inside auto layout */\n        flex: none;\n        order: 1;\n        flex-grow: 0;\n    }\n\n    .grid-table7a53b35c09804a6dbc6f59c5e4e9fb9f {\n        display:grid;\n        grid-template-columns: 1fr repeat(16, 1fr);\n        grid-template-rows: repeat(2, 1fr);\n        overflow-x: auto;\n    }\n\n    .grid-std-cells {\n        grid-column: span 4;\n\n    }\n    .grid-index-cells {\n        grid-column: span 1;\n        /* tmp fix to make left col stand out (fix with font-family) */\n        font-weight: 600;\n        background-color: var(--secondary-color) !important;\n        color: var(--tertiary-color);\n    }\n\n    .grid-header {\n        /* Auto layout */\n        display: flex;\n        flex-direction: column;\n        align-items: center;\n        padding: 6px 4px;\n\n        /* Lt On Surface/Surface */\n        /* Lt On Surface/High */\n        border: 1px solid #CFCDD6;\n        /* tmp fix to make header stand out (fix with font-family) */\n        font-weight: 600;\n        background-color: var(--secondary-color);\n        color: var(--tertiary-color);\n    }\n\n    .grid-row {\n        display: flex;\n        flex-direction: column;\n        align-items: flex-start;\n        padding: 6px 4px;\n        overflow: hidden;\n        border: 1px solid #CFCDD6;\n        background-color: var(--primary-color);\n        color: var(--tertiary-color);\n    }\n\n    .badge {\n        code-text;\n        border-radius: 30px;\n    }\n\n    .badge-blue {\n        badge;\n        background-color: #C2DEF0;\n        color: #1F567A;\n    }\n\n    .badge-purple {\n        badge;\n        background-color: #C9CFE8;\n        color: #373B7B;\n    }\n\n    .badge-green {\n        badge;\n\n        /* Success/Container */\n        background-color: #D5F1D5;\n        color: #256B24;\n    }\n\n    .badge-red {\n        badge;\n        background-color: #F2D9DE;\n        color: #9B2737;\n    }\n\n    .badge-gray {\n        badge;\n        background-color: #ECEBEF;\n        color: #2E2B3B;\n    }\n    .paginationContainer{\n        width: 100%;\n        height: 30px;\n        display: flex;\n        justify-content: center;\n        gap: 8px;\n        padding: 5px;\n        color: var(--tertiary-color);\n    }\n\n    .page{\n        color: black;\n        font-weight: bold;\n        color: var(--tertiary-color);\n    }\n    .page:hover {\n      color: #38bdf8;\n      cursor: pointer;\n    }\n    .clipboard:hover{\n        cursor: pointer;\n        color: var(--tertiary-color);\n    }\n\n    .search-field {\n        display: flex;\n        align-items: center;\n        border-radius: 30px;\n        background-color: var(--secondary-color);\n    }\n\n    .syft-dropdown {\n        margin: 5px;\n        margin-left: 5px;\n        position: relative;\n        display: inline-block;\n        text-align: center;\n        background-color: var(--button-color);\n        min-width: 100px;\n        padding: 2px;\n        border-radius: 30px;\n    }\n\n    .syft-dropdown:hover {\n        cursor: pointer;\n    }\n    .syft-dropdown-content {\n        margin-top:26px;\n        display: none;\n        position: absolute;\n        min-width: 100px;\n        box-shadow: 0px 8px 16px 0px rgba(0,0,0,0.2);\n        padding: 12px 6px;\n        z-index: 1;\n        background-color: var(--primary-color);\n        color: var(--tertiary-color);\n    }\n    .dd-options {\n        padding-top: 4px;\n    }\n    .dd-options:first-of-type {\n        padding-top: 0px;\n    }\n\n    .dd-options:hover {\n        cursor: pointer;\n        background: #d1d5db;\n    }\n    .arrow {\n        border: solid black;\n        border-width: 0 3px 3px 0;\n        display: inline-block;\n        padding: 3px;\n    }\n    .down {\n        transform: rotate(45deg);\n        -webkit-transform: rotate(45deg);\n    }\n</style>\n\n\n    <div style='margin-top:15px;'>\n        <div class='flex gap-10' style='align-items: center;'>\n            <div class='folder-icon'><svg width=\"32\" height=\"32\" viewBox=\"0 0 32 32\" fill=\"none\" xmlns=\"http://www.w3.org/2000/svg\"> <path d=\"M28 6H4C3.73478 6 3.48043 6.10536 3.29289 6.29289C3.10536 6.48043 3 6.73478 3 7V24C3 24.5304 3.21071 25.0391 3.58579 25.4142C3.96086 25.7893 4.46957 26 5 26H27C27.5304 26 28.0391 25.7893 28.4142 25.4142C28.7893 25.0391 29 24.5304 29 24V7C29 6.73478 28.8946 6.48043 28.7071 6.29289C28.5196 6.10536 28.2652 6 28 6ZM5 14H10V18H5V14ZM12 14H27V18H12V14ZM27 8V12H5V8H27ZM5 20H10V24H5V20ZM27 24H12V20H27V24Z\" fill=\"#343330\"/></svg></div>\n            <div><p class='header-3'>Contributor Set</p></div>\n        </div>\n\n            <div style=\"padding-top: 16px; display:flex;justify-content: space-between; align-items: center;\">\n                <div class='pt-25 gap-10' style=\"display:flex;\">\n                    <div class=\"search-field\">\n                        <div id='search-menu7a53b35c09804a6dbc6f59c5e4e9fb9f' class=\"syft-dropdown\" onclick=\"{\n                            let doc = document.getElementById('search-dropdown-content7a53b35c09804a6dbc6f59c5e4e9fb9f')\n                            if (doc.style.display === 'block'){\n                                doc.style.display = 'none'\n                            } else {\n                                doc.style.display = 'block'\n                            }\n                            }\">\n                            <div id='search-dropdown-content7a53b35c09804a6dbc6f59c5e4e9fb9f' class='syft-dropdown-content'></div>\n                            <script>\n                                var element7a53b35c09804a6dbc6f59c5e4e9fb9f = [{\"id\": {\"value\": \"ebbcdd1c211a4fb28bdbd236e0b728de\", \"type\": \"clipboard\"}, \"name\": \"Alice\", \"role\": \"Uploader\", \"email\": \"alice@openmined.com\"}]\n                                var page_size7a53b35c09804a6dbc6f59c5e4e9fb9f = 1\n                                var pageIndex7a53b35c09804a6dbc6f59c5e4e9fb9f = 1\n                                var paginatedElements7a53b35c09804a6dbc6f59c5e4e9fb9f = []\n                                var activeFilter7a53b35c09804a6dbc6f59c5e4e9fb9f;\n\n                                function buildDropDownMenu(elements){\n                                    let init_filter;\n                                    let menu = document.getElementById('search-dropdown-content7a53b35c09804a6dbc6f59c5e4e9fb9f')\n                                    if (elements.length > 0) {\n                                        let sample = elements[0]\n                                        for (const attr in sample) {\n                                            if (typeof init_filter === 'undefined'){\n                                                init_filter = attr;\n                                            }\n                                            let content = document.createElement('div');\n                                            content.onclick = function(event) {\n                                                event.stopPropagation()\n                                                document.getElementById('menu-active-filter7a53b35c09804a6dbc6f59c5e4e9fb9f').innerText = attr;\n                                                activeFilter7a53b35c09804a6dbc6f59c5e4e9fb9f = attr;\n                                                document.getElementById(\n                                                    'search-dropdown-content7a53b35c09804a6dbc6f59c5e4e9fb9f'\n                                                ).style.display= 'none';\n                                            }\n                                            content.classList.add(\"dd-options\");\n                                            content.innerText = attr;\n                                            menu.appendChild(content);\n                                        }\n                                    } else {\n                                        let init_filter = '---'\n                                    }\n                                    let dropdown_field = document.getElementById('search-menu7a53b35c09804a6dbc6f59c5e4e9fb9f')\n                                    let span = document.createElement('span')\n                                    span.setAttribute('id', 'menu-active-filter7a53b35c09804a6dbc6f59c5e4e9fb9f')\n                                    span.innerText = init_filter\n                                    activeFilter7a53b35c09804a6dbc6f59c5e4e9fb9f = init_filter;\n                                    dropdown_field.appendChild(span)\n                                }\n\n                                buildDropDownMenu(element7a53b35c09804a6dbc6f59c5e4e9fb9f)\n                            </script>\n                        </div>\n                        <input id='searchKey7a53b35c09804a6dbc6f59c5e4e9fb9f' class='search-input' placeholder='Enter search here ...'  />\n                    </div>\n                    <button class='search-button' type=\"button\" onclick=\"searchGrid7a53b35c09804a6dbc6f59c5e4e9fb9f(element7a53b35c09804a6dbc6f59c5e4e9fb9f)\">\n                        <svg width=\"11\" height=\"10\" viewBox=\"0 0 11 10\" fill=\"none\" xmlns=\"http://www.w3.org/2000/svg\"><path d=\"M10.5652 9.23467L8.21819 6.88811C8.89846 6.07141 9.23767 5.02389 9.16527 3.96345C9.09287 2.90302 8.61443 1.91132 7.82948 1.19466C7.04453 0.477995 6.01349 0.0915414 4.95087 0.115691C3.88824 0.139841 2.87583 0.572735 2.12425 1.32432C1.37266 2.0759 0.939768 3.08831 0.915618 4.15094C0.891468 5.21357 1.27792 6.2446 1.99459 7.02955C2.71125 7.8145 3.70295 8.29294 4.76338 8.36535C5.82381 8.43775 6.87134 8.09853 7.68804 7.41827L10.0346 9.7653C10.0694 9.80014 10.1108 9.82778 10.1563 9.84663C10.2018 9.86549 10.2506 9.87519 10.2999 9.87519C10.3492 9.87519 10.398 9.86549 10.4435 9.84663C10.489 9.82778 10.5304 9.80014 10.5652 9.7653C10.6001 9.73046 10.6277 9.68909 10.6466 9.64357C10.6654 9.59805 10.6751 9.54926 10.6751 9.49998C10.6751 9.45071 10.6654 9.40192 10.6466 9.3564C10.6277 9.31088 10.6001 9.26951 10.5652 9.23467ZM1.67491 4.24998C1.67491 3.58247 1.87285 2.92995 2.2437 2.37493C2.61455 1.81992 3.14165 1.38734 3.75835 1.13189C4.37506 0.876446 5.05366 0.809609 5.70834 0.939835C6.36303 1.07006 6.96439 1.3915 7.4364 1.8635C7.9084 2.3355 8.22984 2.93687 8.36006 3.59155C8.49029 4.24624 8.42345 4.92484 8.168 5.54154C7.91256 6.15824 7.47998 6.68535 6.92496 7.05619C6.36995 7.42704 5.71742 7.62498 5.04991 7.62498C4.15511 7.62399 3.29724 7.26809 2.66452 6.63537C2.0318 6.00265 1.6759 5.14479 1.67491 4.24998Z\" fill=\"currentColor\"/></svg>\n                        <span class='pl-8'>Search</span>\n                    </button>\n                </div>\n\n                <div><h4 id='total7a53b35c09804a6dbc6f59c5e4e9fb9f'>0</h4></div>\n            </div>\n            <div id='table7a53b35c09804a6dbc6f59c5e4e9fb9f' class='grid-table7a53b35c09804a6dbc6f59c5e4e9fb9f' style='margin-top: 25px;'>\n                <script>\n                    function paginate7a53b35c09804a6dbc6f59c5e4e9fb9f(arr, size) {\n                        const res = [];\n                        for (let i = 0; i < arr.length; i += size) {\n                            const chunk = arr.slice(i, i + size);\n                            res.push(chunk);\n                        }\n\n                        return res;\n                    }\n\n                    function searchGrid7a53b35c09804a6dbc6f59c5e4e9fb9f(elements){\n                        let searchKey = document.getElementById('searchKey7a53b35c09804a6dbc6f59c5e4e9fb9f').value;\n                        let result;\n                        if (searchKey === ''){\n                            result = elements;\n                        } else {\n                            result = elements.filter((element) => {\n                                let property = element[activeFilter7a53b35c09804a6dbc6f59c5e4e9fb9f]\n                                if (typeof property === 'object' && property !== null){\n                                    return property.value.toLowerCase().includes(searchKey.toLowerCase());\n                                } else if (typeof property === 'string' ) {\n                                    return element[activeFilter7a53b35c09804a6dbc6f59c5e4e9fb9f].toLowerCase().includes(searchKey.toLowerCase());\n                                } else if (property !== null ) {\n                                    return element[activeFilter7a53b35c09804a6dbc6f59c5e4e9fb9f].toString() === searchKey;\n                                } else {\n                                    return element[activeFilter7a53b35c09804a6dbc6f59c5e4e9fb9f] === searchKey;\n                                }\n                            } );\n                        }\n                        resetById7a53b35c09804a6dbc6f59c5e4e9fb9f('table7a53b35c09804a6dbc6f59c5e4e9fb9f');\n                        resetById7a53b35c09804a6dbc6f59c5e4e9fb9f('pag7a53b35c09804a6dbc6f59c5e4e9fb9f');\n                        result = paginate7a53b35c09804a6dbc6f59c5e4e9fb9f(result, page_size7a53b35c09804a6dbc6f59c5e4e9fb9f)\n                        paginatedElements7a53b35c09804a6dbc6f59c5e4e9fb9f = result\n                        buildGrid7a53b35c09804a6dbc6f59c5e4e9fb9f(result,pageIndex7a53b35c09804a6dbc6f59c5e4e9fb9f);\n                        buildPaginationContainer7a53b35c09804a6dbc6f59c5e4e9fb9f(result);\n                    }\n\n                    function resetById7a53b35c09804a6dbc6f59c5e4e9fb9f(id){\n                        let element = document.getElementById(id);\n                        while (element.firstChild) {\n                          element.removeChild(element.firstChild);\n                        }\n                    }\n\n                    function buildGrid7a53b35c09804a6dbc6f59c5e4e9fb9f(items, pageIndex){\n                                let headers = Object.keys(element7a53b35c09804a6dbc6f59c5e4e9fb9f[0]);\n\n                                let grid = document.getElementById(\"table7a53b35c09804a6dbc6f59c5e4e9fb9f\");\n                                let div = document.createElement(\"div\");\n                                div.classList.add('grid-header', 'grid-index-cells');\n                                grid.appendChild(div);\n                                headers.forEach((title) =>{\n                                    let div = document.createElement(\"div\");\n                                    div.classList.add('grid-header', 'grid-std-cells');\n                                    div.innerText = title;\n\n                                    grid.appendChild(div);\n                                });\n\n                                let page = items[pageIndex -1]\n                                if (page !== 'undefine'){\n                                    let table_index7a53b35c09804a6dbc6f59c5e4e9fb9f = ((pageIndex - 1) * page_size7a53b35c09804a6dbc6f59c5e4e9fb9f)\n                                    page.forEach((item) => {\n                                        let grid = document.getElementById(\"table7a53b35c09804a6dbc6f59c5e4e9fb9f\");\n                                        // Add new index value in index cells\n                                        let divIndex = document.createElement(\"div\");\n                                        divIndex.classList.add('grid-row', 'grid-index-cells');\n                                        divIndex.innerText = table_index7a53b35c09804a6dbc6f59c5e4e9fb9f;\n                                        grid.appendChild(divIndex);\n\n                                        // Iterate over the actual obj\n                                        for (const attr in item) {\n                                            let div = document.createElement(\"div\");\n                                            if (typeof item[attr] === 'object'\n                                                && item[attr] !== null\n                                                && item[attr].hasOwnProperty('type')) {\n                                                if (item[attr].type.includes('badge')){\n                                                    let badge_div = document.createElement(\"div\");\n                                                    badge_div.classList.add('badge',item[attr].type)\n                                                    badge_div.innerText = String(item[attr].value).toUpperCase();\n                                                    div.appendChild(badge_div);\n                                                    div.classList.add('grid-row','grid-std-cells');\n                                                } else if (item[attr].type === \"clipboard\") {\n                                                    div.classList.add('grid-row','grid-std-cells');\n\n                                                    // Create clipboard div\n                                                    let clipboard_div = document.createElement('div');\n                                                    clipboard_div.style.display= 'flex';\n                                                    clipboard_div.classList.add(\"gap-10\")\n                                                    clipboard_div.style.justifyContent = \"space-between\";\n\n                                                    let id_text = document.createElement('div');\n                                                    if (item[attr].value == \"None\"){\n                                                        id_text.innerText = \"None\";\n                                                    }\n                                                    else{\n                                                        id_text.innerText = item[attr].value.slice(0,5) + \"...\";\n                                                    }\n\n                                                    clipboard_div.appendChild(id_text);\n                                                    let clipboard_img = document.createElement('div');\n                                                    clipboard_img.classList.add(\"clipboard\")\n                                                    div.onclick = function() {\n                                                        navigator.clipboard.writeText(item[attr].value);\n                                                    };\n                                                    clipboard_img.innerHTML = \"<svg width='8' height='8' viewBox='0 0 8 8' fill='none' xmlns='http://www.w3.org/2000/svg'><path d='M7.4375 0.25H2.4375C2.35462 0.25 2.27513 0.282924 2.21653 0.341529C2.15792 0.400134 2.125 0.47962 2.125 0.5625V2.125H0.5625C0.47962 2.125 0.400134 2.15792 0.341529 2.21653C0.282924 2.27513 0.25 2.35462 0.25 2.4375V7.4375C0.25 7.52038 0.282924 7.59987 0.341529 7.65847C0.400134 7.71708 0.47962 7.75 0.5625 7.75H5.5625C5.64538 7.75 5.72487 7.71708 5.78347 7.65847C5.84208 7.59987 5.875 7.52038 5.875 7.4375V5.875H7.4375C7.52038 5.875 7.59987 5.84208 7.65847 5.78347C7.71708 5.72487 7.75 5.64538 7.75 5.5625V0.5625C7.75 0.47962 7.71708 0.400134 7.65847 0.341529C7.59987 0.282924 7.52038 0.25 7.4375 0.25ZM5.25 7.125H0.875V2.75H5.25V7.125ZM7.125 5.25H5.875V2.4375C5.875 2.35462 5.84208 2.27513 5.78347 2.21653C5.72487 2.15792 5.64538 2.125 5.5625 2.125H2.75V0.875H7.125V5.25Z' fill='#464158'/></svg>\";\n\n                                                    clipboard_div.appendChild(clipboard_img);\n                                                    div.appendChild(clipboard_div);\n                                                }\n                                            } else{\n                                                div.classList.add('grid-row','grid-std-cells');\n                                                if (item[attr] == null) {\n                                                    text = ' '\n                                                } else {\n                                                    text = String(item[attr])\n                                                }\n                                                if (text.length > 150){\n                                                    text = text.slice(0,150) + \"...\";\n                                                }\n                                                text = text.replaceAll(\"\\n\", \"</br>\");\n                                                div.innerHTML = text;\n                                            }\n                                            grid.appendChild(div);\n                                        }\n                                    table_index7a53b35c09804a6dbc6f59c5e4e9fb9f = table_index7a53b35c09804a6dbc6f59c5e4e9fb9f + 1;\n                                    })\n                                }\n                    }\n                    paginatedElements7a53b35c09804a6dbc6f59c5e4e9fb9f = paginate7a53b35c09804a6dbc6f59c5e4e9fb9f(element7a53b35c09804a6dbc6f59c5e4e9fb9f, page_size7a53b35c09804a6dbc6f59c5e4e9fb9f)\n                    buildGrid7a53b35c09804a6dbc6f59c5e4e9fb9f(paginatedElements7a53b35c09804a6dbc6f59c5e4e9fb9f, 1)\n                    document.getElementById('total7a53b35c09804a6dbc6f59c5e4e9fb9f').innerText = \"Total: \" + element7a53b35c09804a6dbc6f59c5e4e9fb9f.length\n                </script>\n            </div>\n            <div id='pag7a53b35c09804a6dbc6f59c5e4e9fb9f' class='paginationContainer'>\n                <script>\n                    function buildPaginationContainer7a53b35c09804a6dbc6f59c5e4e9fb9f(paginatedElements){\n                            let pageContainer = document.getElementById(\"pag7a53b35c09804a6dbc6f59c5e4e9fb9f\");\n                            for (let i = 0; i < paginatedElements.length; i++) {\n                                  let div = document.createElement(\"div\");\n                                  div.classList.add('page');\n                                  if(i===0) div.style.color = \"gray\";\n                                  else div.style.color = 'var(--tertiary-color, \"gray\")';\n                                  div.onclick = function(event) {\n                                      let indexes = document.getElementsByClassName('page');\n                                      for (let index of indexes) { index.style.color = 'var(--tertiary-color, \"gray\")' }\n                                      event.target.style.color = \"gray\";\n                                      setPage7a53b35c09804a6dbc6f59c5e4e9fb9f(i + 1);\n                                  };\n                                  div.innerText = i + 1;\n                                  pageContainer.appendChild(div);\n                            }\n                    }\n\n                    function setPage7a53b35c09804a6dbc6f59c5e4e9fb9f(newPage){\n                        pageIndex = newPage\n                        resetById7a53b35c09804a6dbc6f59c5e4e9fb9f('table7a53b35c09804a6dbc6f59c5e4e9fb9f')\n                        buildGrid7a53b35c09804a6dbc6f59c5e4e9fb9f(paginatedElements7a53b35c09804a6dbc6f59c5e4e9fb9f, pageIndex)\n                    }\n\n                    buildPaginationContainer7a53b35c09804a6dbc6f59c5e4e9fb9f(paginatedElements7a53b35c09804a6dbc6f59c5e4e9fb9f)\n                </script>\n            </div>\n        </div>\n"
     },
     "execution_count": 39,
     "metadata": {},
     "output_type": "execute_result"
    }
   ],
   "source": [
    "dataset = sy.Dataset(\n",
    "    name=\"MNIST data\",\n",
    "    description=\"\"\"Contains the flattened training images and one-hot encoded training labels.\"\"\",\n",
    "    url=\"https://storage.googleapis.com/cvdf-datasets/mnist/\",\n",
    ")\n",
    "\n",
    "dataset.add_contributor(\n",
    "    role=sy.roles.UPLOADER,\n",
    "    name=\"Alice\",\n",
    "    email=\"alice@openmined.com\",\n",
    "    note=\"Alice is the data engineer at the OpenMined\",\n",
    ")\n",
    "\n",
    "dataset.contributors"
   ]
  },
  {
   "cell_type": "code",
   "execution_count": 40,
   "id": "21",
   "metadata": {
    "ExecuteTime": {
     "end_time": "2024-03-19T11:25:05.918816Z",
     "start_time": "2024-03-19T11:25:05.892964Z"
    }
   },
   "outputs": [
    {
     "data": {
      "text/plain": "SyftSuccess: Asset 'MNIST training labels' added to 'MNIST data' Dataset.",
      "text/html": "<div class=\"alert-success\" style=\"padding:5px;\"><strong>SyftSuccess</strong>: Asset 'MNIST training labels' added to 'MNIST data' Dataset.</div><br />"
     },
     "execution_count": 40,
     "metadata": {},
     "output_type": "execute_result"
    }
   ],
   "source": [
    "asset_mnist_train_input = sy.Asset(\n",
    "    name=\"MNIST training images\",\n",
    "    description=\"\"\"The training images of the MNIST dataset\"\"\",\n",
    "    data=train_images,\n",
    "    mock=mock_images,\n",
    ")\n",
    "\n",
    "asset_mnist_train_labels = sy.Asset(\n",
    "    name=\"MNIST training labels\",\n",
    "    description=\"\"\"The training labels of MNIST dataset\"\"\",\n",
    "    data=train_labels,\n",
    "    mock=mock_labels,\n",
    ")\n",
    "\n",
    "dataset.add_asset(asset_mnist_train_input)\n",
    "dataset.add_asset(asset_mnist_train_labels)"
   ]
  },
  {
   "cell_type": "code",
   "execution_count": 41,
   "id": "22",
   "metadata": {
    "ExecuteTime": {
     "end_time": "2024-03-19T11:25:08.571396Z",
     "start_time": "2024-03-19T11:25:05.920331Z"
    }
   },
   "outputs": [
    {
     "name": "stderr",
     "output_type": "stream",
     "text": [
      "  0%|          | 0/2 [00:00<?, ?it/s]"
     ]
    },
    {
     "name": "stdout",
     "output_type": "stream",
     "text": [
      "Uploading: MNIST training images\n"
     ]
    },
    {
     "name": "stderr",
     "output_type": "stream",
     "text": [
      " 50%|█████     | 1/2 [00:00<00:00,  1.01it/s]"
     ]
    },
    {
     "name": "stdout",
     "output_type": "stream",
     "text": [
      "Uploading: MNIST training labels\n"
     ]
    },
    {
     "name": "stderr",
     "output_type": "stream",
     "text": [
      "100%|██████████| 2/2 [00:01<00:00,  1.14it/s]\n"
     ]
    },
    {
     "data": {
      "text/plain": "SyftSuccess: Dataset uploaded to 'mnist-domain'. To see the datasets uploaded by a client on this node, use command `[your_client].datasets`",
      "text/html": "<div class=\"alert-success\" style=\"padding:5px;\"><strong>SyftSuccess</strong>: Dataset uploaded to 'mnist-domain'. To see the datasets uploaded by a client on this node, use command `[your_client].datasets`</div><br />"
     },
     "execution_count": 41,
     "metadata": {},
     "output_type": "execute_result"
    }
   ],
   "source": [
    "root_client.upload_dataset(dataset)"
   ]
  },
  {
   "cell_type": "markdown",
   "id": "23",
   "metadata": {},
   "source": [
    "### The DO inspects the uploaded data"
   ]
  },
  {
   "cell_type": "code",
   "execution_count": 42,
   "id": "24",
   "metadata": {
    "ExecuteTime": {
     "end_time": "2024-03-19T11:25:08.725046Z",
     "start_time": "2024-03-19T11:25:08.572886Z"
    }
   },
   "outputs": [
    {
     "data": {
      "text/plain": "DictTuple(syft.service.dataset.dataset.Dataset,)",
      "text/html": "\n<style>\n  body[data-jp-theme-light='false'] {\n        --primary-color: #111111;\n        --secondary-color: #212121;\n        --tertiary-color: #CFCDD6;\n        --button-color: #111111;\n  }\n\n  body {\n        --primary-color: #ffffff;\n        --secondary-color: #f5f5f5;\n        --tertiary-color: #000000de;\n        --button-color: #d1d5db;\n  }\n\n  .header-1 {\n        font-style: normal;\n        font-weight: 600;\n        font-size: 2.0736em;\n        line-height: 100%;\n        leading-trim: both;\n        text-edge: cap;\n        color: #17161D;\n    }\n\n  .header-2 {\n        font-style: normal;\n        font-weight: 600;\n        font-size: 1.728em;\n        line-height: 100%;\n        leading-trim: both;\n        text-edge: cap;\n        color: #17161D;\n    }\n\n  .header-3 {\n        font-style: normal;\n        font-weight: 600;\n        font-size:  1.44em;\n        line-height: 100%;\n        leading-trim: both;\n        text-edge: cap;\n        color: var(--tertiary-color);\n    }\n\n  .header-4 {\n        font-style: normal;\n        font-weight: 600;\n        font-size: 1.2em;\n        line-height: 100%;\n        leading-trim: both;\n        text-edge: cap;\n        color: #17161D;\n    }\n\n    .paragraph {\n        font-style: normal;\n        font-weight: 400;\n        font-size: 14px;\n        line-height: 100%;\n        leading-trim: both;\n        text-edge: cap;\n        color: #2E2B3B;\n    }\n\n    .paragraph-sm {\n        font-family: 'Roboto';\n        font-style: normal;\n        font-weight: 400;\n        font-size: 11.62px;\n        line-height: 100%;\n        leading-trim: both;\n        text-edge: cap;\n        color: #2E2B3B;\n    }\n    .code-text {\n        font-family: 'Consolas';\n        font-style: normal;\n        font-weight: 400;\n        font-size: 13px;\n        line-height: 130%;\n        leading-trim: both;\n        text-edge: cap;\n        color: #2E2B3B;\n    }\n\n    .numbering-entry { display: none }\n\n    /* Tooltip container */\n    .tooltip {\n        position: relative;\n        display: inline-block;\n        border-bottom: 1px dotted black; /* If you want dots under the hoverable text */\n    }\n\n    /* Tooltip text */\n    .tooltip .tooltiptext {\n        visibility: hidden;\n        width: 120px;\n        background-color: black;\n        color: #fff;\n        text-align: center;\n        padding: 5px 0;\n        border-radius: 6px;\n\n        /* Position the tooltip text - see examples below! */\n        position: absolute;\n        z-index: 1;\n    }\n\n    .repr-cell {\n      padding-top: 20px;\n    }\n\n    .text-bold {\n        font-weight: bold;\n    }\n\n    .pr-8 {\n        padding-right: 8px;\n    }\n    .pt-8 {\n        padding-top: 8px;\n    }\n    .pl-8 {\n        padding-left: 8px;\n    }\n    .pb-8 {\n        padding-bottom: 8px;\n    }\n\n    .py-25{\n        padding-top: 25px;\n        padding-bottom: 25px;\n    }\n\n    .flex {\n        display: flex;\n    }\n\n    .gap-10 {\n        gap: 10px;\n    }\n    .items-center{\n        align-items: center;\n    }\n\n    .folder-icon {\n        color: var(--tertiary-color);\n    }\n\n    .search-input{\n        display: flex;\n        flex-direction: row;\n        align-items: center;\n        padding: 8px 12px;\n        width: 343px;\n        height: 24px;\n        /* Lt On Surface/Low */\n        background-color: var(--secondary-color);\n        border-radius: 30px;\n\n        /* Lt On Surface/Highest */\n        color: var(--tertiary-color);\n        border:none;\n        /* Inside auto layout */\n        flex: none;\n        order: 0;\n        flex-grow: 0;\n    }\n    .search-input:focus {\n        outline: none;\n    }\n        .search-input:focus::placeholder,\n    .search-input::placeholder { /* Chrome, Firefox, Opera, Safari 10.1+ */\n        color: var(--tertiary-color);\n        opacity: 1; /* Firefox */\n    }\n\n    .search-button{\n        /* Search */\n        leading-trim: both;\n        text-edge: cap;\n        display: flex;\n        align-items: center;\n        text-align: center;\n\n        /* Primary/On Light */\n        background-color: var(--button-color);\n        color: var(--tertiary-color);\n\n        border-radius: 30px;\n        border-color: var(--secondary-color);\n        border-style: solid;\n        box-shadow: rgba(60, 64, 67, 0.3) 0px 1px 2px 0px, rgba(60, 64, 67, 0.15) 0px 1px 3px 1px;\n        cursor: pointer;\n        /* Inside auto layout */\n        flex: none;\n        order: 1;\n        flex-grow: 0;\n    }\n\n    .grid-table0a6cd1dfb87f457eb1903ca21c9f3d7c {\n        display:grid;\n        grid-template-columns: 1fr repeat(24, 1fr);\n        grid-template-rows: repeat(2, 1fr);\n        overflow-x: auto;\n    }\n\n    .grid-std-cells {\n        grid-column: span 4;\n\n    }\n    .grid-index-cells {\n        grid-column: span 1;\n        /* tmp fix to make left col stand out (fix with font-family) */\n        font-weight: 600;\n        background-color: var(--secondary-color) !important;\n        color: var(--tertiary-color);\n    }\n\n    .grid-header {\n        /* Auto layout */\n        display: flex;\n        flex-direction: column;\n        align-items: center;\n        padding: 6px 4px;\n\n        /* Lt On Surface/Surface */\n        /* Lt On Surface/High */\n        border: 1px solid #CFCDD6;\n        /* tmp fix to make header stand out (fix with font-family) */\n        font-weight: 600;\n        background-color: var(--secondary-color);\n        color: var(--tertiary-color);\n    }\n\n    .grid-row {\n        display: flex;\n        flex-direction: column;\n        align-items: flex-start;\n        padding: 6px 4px;\n        overflow: hidden;\n        border: 1px solid #CFCDD6;\n        background-color: var(--primary-color);\n        color: var(--tertiary-color);\n    }\n\n    .badge {\n        code-text;\n        border-radius: 30px;\n    }\n\n    .badge-blue {\n        badge;\n        background-color: #C2DEF0;\n        color: #1F567A;\n    }\n\n    .badge-purple {\n        badge;\n        background-color: #C9CFE8;\n        color: #373B7B;\n    }\n\n    .badge-green {\n        badge;\n\n        /* Success/Container */\n        background-color: #D5F1D5;\n        color: #256B24;\n    }\n\n    .badge-red {\n        badge;\n        background-color: #F2D9DE;\n        color: #9B2737;\n    }\n\n    .badge-gray {\n        badge;\n        background-color: #ECEBEF;\n        color: #2E2B3B;\n    }\n    .paginationContainer{\n        width: 100%;\n        height: 30px;\n        display: flex;\n        justify-content: center;\n        gap: 8px;\n        padding: 5px;\n        color: var(--tertiary-color);\n    }\n\n    .page{\n        color: black;\n        font-weight: bold;\n        color: var(--tertiary-color);\n    }\n    .page:hover {\n      color: #38bdf8;\n      cursor: pointer;\n    }\n    .clipboard:hover{\n        cursor: pointer;\n        color: var(--tertiary-color);\n    }\n\n    .search-field {\n        display: flex;\n        align-items: center;\n        border-radius: 30px;\n        background-color: var(--secondary-color);\n    }\n\n    .syft-dropdown {\n        margin: 5px;\n        margin-left: 5px;\n        position: relative;\n        display: inline-block;\n        text-align: center;\n        background-color: var(--button-color);\n        min-width: 100px;\n        padding: 2px;\n        border-radius: 30px;\n    }\n\n    .syft-dropdown:hover {\n        cursor: pointer;\n    }\n    .syft-dropdown-content {\n        margin-top:26px;\n        display: none;\n        position: absolute;\n        min-width: 100px;\n        box-shadow: 0px 8px 16px 0px rgba(0,0,0,0.2);\n        padding: 12px 6px;\n        z-index: 1;\n        background-color: var(--primary-color);\n        color: var(--tertiary-color);\n    }\n    .dd-options {\n        padding-top: 4px;\n    }\n    .dd-options:first-of-type {\n        padding-top: 0px;\n    }\n\n    .dd-options:hover {\n        cursor: pointer;\n        background: #d1d5db;\n    }\n    .arrow {\n        border: solid black;\n        border-width: 0 3px 3px 0;\n        display: inline-block;\n        padding: 3px;\n    }\n    .down {\n        transform: rotate(45deg);\n        -webkit-transform: rotate(45deg);\n    }\n</style>\n\n\n    <div style='margin-top:15px;'>\n        <div class='flex gap-10' style='align-items: center;'>\n            <div class='folder-icon'><svg width=\"32\"  height=\"32\" viewBox=\"0 0 14 12\" fill=\"none\" xmlns=\"http://www.w3.org/2000/svg\"><path d=\"M13 2H8.66687L6.93313 0.7C6.75978 0.57066 6.54941 0.500536 6.33313 0.5H3.5C3.23478 0.5 2.98043 0.605357 2.79289 0.792893C2.60536 0.98043 2.5 1.23478 2.5 1.5V2.5H1.5C1.23478 2.5 0.98043 2.60536 0.792893 2.79289C0.605357 2.98043 0.5 3.23478 0.5 3.5V10.5C0.5 10.7652 0.605357 11.0196 0.792893 11.2071C0.98043 11.3946 1.23478 11.5 1.5 11.5H11.0556C11.306 11.4997 11.546 11.4001 11.723 11.223C11.9001 11.046 11.9997 10.806 12 10.5556V9.5H13.0556C13.306 9.49967 13.546 9.40007 13.723 9.22303C13.9001 9.046 13.9997 8.80599 14 8.55562V3C14 2.73478 13.8946 2.48043 13.7071 2.29289C13.5196 2.10536 13.2652 2 13 2ZM11 10.5H1.5V3.5H4.33313L6.06687 4.8C6.24022 4.92934 6.45059 4.99946 6.66687 5H11V10.5ZM13 8.5H12V5C12 4.73478 11.8946 4.48043 11.7071 4.29289C11.5196 4.10536 11.2652 4 11 4H6.66687L4.93313 2.7C4.75978 2.57066 4.54941 2.50054 4.33313 2.5H3.5V1.5H6.33313L8.06688 2.8C8.24022 2.92934 8.45059 2.99946 8.66687 3H13V8.5Z\" fill=\"currentColor\"/></svg></div>\n            <div><p class='header-3'>Dataset Dicttuple</p></div>\n        </div>\n\n            <div style=\"padding-top: 16px; display:flex;justify-content: space-between; align-items: center;\">\n                <div class='pt-25 gap-10' style=\"display:flex;\">\n                    <div class=\"search-field\">\n                        <div id='search-menu0a6cd1dfb87f457eb1903ca21c9f3d7c' class=\"syft-dropdown\" onclick=\"{\n                            let doc = document.getElementById('search-dropdown-content0a6cd1dfb87f457eb1903ca21c9f3d7c')\n                            if (doc.style.display === 'block'){\n                                doc.style.display = 'none'\n                            } else {\n                                doc.style.display = 'block'\n                            }\n                            }\">\n                            <div id='search-dropdown-content0a6cd1dfb87f457eb1903ca21c9f3d7c' class='syft-dropdown-content'></div>\n                            <script>\n                                var element0a6cd1dfb87f457eb1903ca21c9f3d7c = [{\"id\": {\"value\": \"ad278aa072a44f68906a468ed0b91335\", \"type\": \"clipboard\"}, \"Name\": \"MNIST data\", \"Assets\": 2, \"Size\": \"0 (MB)\", \"Url\": \"https://storage.googleapis.com/cvdf-datasets/mnist/\", \"created at\": \"2024-03-19 03:25:08\"}]\n                                var page_size0a6cd1dfb87f457eb1903ca21c9f3d7c = 1\n                                var pageIndex0a6cd1dfb87f457eb1903ca21c9f3d7c = 1\n                                var paginatedElements0a6cd1dfb87f457eb1903ca21c9f3d7c = []\n                                var activeFilter0a6cd1dfb87f457eb1903ca21c9f3d7c;\n\n                                function buildDropDownMenu(elements){\n                                    let init_filter;\n                                    let menu = document.getElementById('search-dropdown-content0a6cd1dfb87f457eb1903ca21c9f3d7c')\n                                    if (elements.length > 0) {\n                                        let sample = elements[0]\n                                        for (const attr in sample) {\n                                            if (typeof init_filter === 'undefined'){\n                                                init_filter = attr;\n                                            }\n                                            let content = document.createElement('div');\n                                            content.onclick = function(event) {\n                                                event.stopPropagation()\n                                                document.getElementById('menu-active-filter0a6cd1dfb87f457eb1903ca21c9f3d7c').innerText = attr;\n                                                activeFilter0a6cd1dfb87f457eb1903ca21c9f3d7c = attr;\n                                                document.getElementById(\n                                                    'search-dropdown-content0a6cd1dfb87f457eb1903ca21c9f3d7c'\n                                                ).style.display= 'none';\n                                            }\n                                            content.classList.add(\"dd-options\");\n                                            content.innerText = attr;\n                                            menu.appendChild(content);\n                                        }\n                                    } else {\n                                        let init_filter = '---'\n                                    }\n                                    let dropdown_field = document.getElementById('search-menu0a6cd1dfb87f457eb1903ca21c9f3d7c')\n                                    let span = document.createElement('span')\n                                    span.setAttribute('id', 'menu-active-filter0a6cd1dfb87f457eb1903ca21c9f3d7c')\n                                    span.innerText = init_filter\n                                    activeFilter0a6cd1dfb87f457eb1903ca21c9f3d7c = init_filter;\n                                    dropdown_field.appendChild(span)\n                                }\n\n                                buildDropDownMenu(element0a6cd1dfb87f457eb1903ca21c9f3d7c)\n                            </script>\n                        </div>\n                        <input id='searchKey0a6cd1dfb87f457eb1903ca21c9f3d7c' class='search-input' placeholder='Enter search here ...'  />\n                    </div>\n                    <button class='search-button' type=\"button\" onclick=\"searchGrid0a6cd1dfb87f457eb1903ca21c9f3d7c(element0a6cd1dfb87f457eb1903ca21c9f3d7c)\">\n                        <svg width=\"11\" height=\"10\" viewBox=\"0 0 11 10\" fill=\"none\" xmlns=\"http://www.w3.org/2000/svg\"><path d=\"M10.5652 9.23467L8.21819 6.88811C8.89846 6.07141 9.23767 5.02389 9.16527 3.96345C9.09287 2.90302 8.61443 1.91132 7.82948 1.19466C7.04453 0.477995 6.01349 0.0915414 4.95087 0.115691C3.88824 0.139841 2.87583 0.572735 2.12425 1.32432C1.37266 2.0759 0.939768 3.08831 0.915618 4.15094C0.891468 5.21357 1.27792 6.2446 1.99459 7.02955C2.71125 7.8145 3.70295 8.29294 4.76338 8.36535C5.82381 8.43775 6.87134 8.09853 7.68804 7.41827L10.0346 9.7653C10.0694 9.80014 10.1108 9.82778 10.1563 9.84663C10.2018 9.86549 10.2506 9.87519 10.2999 9.87519C10.3492 9.87519 10.398 9.86549 10.4435 9.84663C10.489 9.82778 10.5304 9.80014 10.5652 9.7653C10.6001 9.73046 10.6277 9.68909 10.6466 9.64357C10.6654 9.59805 10.6751 9.54926 10.6751 9.49998C10.6751 9.45071 10.6654 9.40192 10.6466 9.3564C10.6277 9.31088 10.6001 9.26951 10.5652 9.23467ZM1.67491 4.24998C1.67491 3.58247 1.87285 2.92995 2.2437 2.37493C2.61455 1.81992 3.14165 1.38734 3.75835 1.13189C4.37506 0.876446 5.05366 0.809609 5.70834 0.939835C6.36303 1.07006 6.96439 1.3915 7.4364 1.8635C7.9084 2.3355 8.22984 2.93687 8.36006 3.59155C8.49029 4.24624 8.42345 4.92484 8.168 5.54154C7.91256 6.15824 7.47998 6.68535 6.92496 7.05619C6.36995 7.42704 5.71742 7.62498 5.04991 7.62498C4.15511 7.62399 3.29724 7.26809 2.66452 6.63537C2.0318 6.00265 1.6759 5.14479 1.67491 4.24998Z\" fill=\"currentColor\"/></svg>\n                        <span class='pl-8'>Search</span>\n                    </button>\n                </div>\n\n                <div><h4 id='total0a6cd1dfb87f457eb1903ca21c9f3d7c'>0</h4></div>\n            </div>\n            <div id='table0a6cd1dfb87f457eb1903ca21c9f3d7c' class='grid-table0a6cd1dfb87f457eb1903ca21c9f3d7c' style='margin-top: 25px;'>\n                <script>\n                    function paginate0a6cd1dfb87f457eb1903ca21c9f3d7c(arr, size) {\n                        const res = [];\n                        for (let i = 0; i < arr.length; i += size) {\n                            const chunk = arr.slice(i, i + size);\n                            res.push(chunk);\n                        }\n\n                        return res;\n                    }\n\n                    function searchGrid0a6cd1dfb87f457eb1903ca21c9f3d7c(elements){\n                        let searchKey = document.getElementById('searchKey0a6cd1dfb87f457eb1903ca21c9f3d7c').value;\n                        let result;\n                        if (searchKey === ''){\n                            result = elements;\n                        } else {\n                            result = elements.filter((element) => {\n                                let property = element[activeFilter0a6cd1dfb87f457eb1903ca21c9f3d7c]\n                                if (typeof property === 'object' && property !== null){\n                                    return property.value.toLowerCase().includes(searchKey.toLowerCase());\n                                } else if (typeof property === 'string' ) {\n                                    return element[activeFilter0a6cd1dfb87f457eb1903ca21c9f3d7c].toLowerCase().includes(searchKey.toLowerCase());\n                                } else if (property !== null ) {\n                                    return element[activeFilter0a6cd1dfb87f457eb1903ca21c9f3d7c].toString() === searchKey;\n                                } else {\n                                    return element[activeFilter0a6cd1dfb87f457eb1903ca21c9f3d7c] === searchKey;\n                                }\n                            } );\n                        }\n                        resetById0a6cd1dfb87f457eb1903ca21c9f3d7c('table0a6cd1dfb87f457eb1903ca21c9f3d7c');\n                        resetById0a6cd1dfb87f457eb1903ca21c9f3d7c('pag0a6cd1dfb87f457eb1903ca21c9f3d7c');\n                        result = paginate0a6cd1dfb87f457eb1903ca21c9f3d7c(result, page_size0a6cd1dfb87f457eb1903ca21c9f3d7c)\n                        paginatedElements0a6cd1dfb87f457eb1903ca21c9f3d7c = result\n                        buildGrid0a6cd1dfb87f457eb1903ca21c9f3d7c(result,pageIndex0a6cd1dfb87f457eb1903ca21c9f3d7c);\n                        buildPaginationContainer0a6cd1dfb87f457eb1903ca21c9f3d7c(result);\n                    }\n\n                    function resetById0a6cd1dfb87f457eb1903ca21c9f3d7c(id){\n                        let element = document.getElementById(id);\n                        while (element.firstChild) {\n                          element.removeChild(element.firstChild);\n                        }\n                    }\n\n                    function buildGrid0a6cd1dfb87f457eb1903ca21c9f3d7c(items, pageIndex){\n                                let headers = Object.keys(element0a6cd1dfb87f457eb1903ca21c9f3d7c[0]);\n\n                                let grid = document.getElementById(\"table0a6cd1dfb87f457eb1903ca21c9f3d7c\");\n                                let div = document.createElement(\"div\");\n                                div.classList.add('grid-header', 'grid-index-cells');\n                                grid.appendChild(div);\n                                headers.forEach((title) =>{\n                                    let div = document.createElement(\"div\");\n                                    div.classList.add('grid-header', 'grid-std-cells');\n                                    div.innerText = title;\n\n                                    grid.appendChild(div);\n                                });\n\n                                let page = items[pageIndex -1]\n                                if (page !== 'undefine'){\n                                    let table_index0a6cd1dfb87f457eb1903ca21c9f3d7c = ((pageIndex - 1) * page_size0a6cd1dfb87f457eb1903ca21c9f3d7c)\n                                    page.forEach((item) => {\n                                        let grid = document.getElementById(\"table0a6cd1dfb87f457eb1903ca21c9f3d7c\");\n                                        // Add new index value in index cells\n                                        let divIndex = document.createElement(\"div\");\n                                        divIndex.classList.add('grid-row', 'grid-index-cells');\n                                        divIndex.innerText = table_index0a6cd1dfb87f457eb1903ca21c9f3d7c;\n                                        grid.appendChild(divIndex);\n\n                                        // Iterate over the actual obj\n                                        for (const attr in item) {\n                                            let div = document.createElement(\"div\");\n                                            if (typeof item[attr] === 'object'\n                                                && item[attr] !== null\n                                                && item[attr].hasOwnProperty('type')) {\n                                                if (item[attr].type.includes('badge')){\n                                                    let badge_div = document.createElement(\"div\");\n                                                    badge_div.classList.add('badge',item[attr].type)\n                                                    badge_div.innerText = String(item[attr].value).toUpperCase();\n                                                    div.appendChild(badge_div);\n                                                    div.classList.add('grid-row','grid-std-cells');\n                                                } else if (item[attr].type === \"clipboard\") {\n                                                    div.classList.add('grid-row','grid-std-cells');\n\n                                                    // Create clipboard div\n                                                    let clipboard_div = document.createElement('div');\n                                                    clipboard_div.style.display= 'flex';\n                                                    clipboard_div.classList.add(\"gap-10\")\n                                                    clipboard_div.style.justifyContent = \"space-between\";\n\n                                                    let id_text = document.createElement('div');\n                                                    if (item[attr].value == \"None\"){\n                                                        id_text.innerText = \"None\";\n                                                    }\n                                                    else{\n                                                        id_text.innerText = item[attr].value.slice(0,5) + \"...\";\n                                                    }\n\n                                                    clipboard_div.appendChild(id_text);\n                                                    let clipboard_img = document.createElement('div');\n                                                    clipboard_img.classList.add(\"clipboard\")\n                                                    div.onclick = function() {\n                                                        navigator.clipboard.writeText(item[attr].value);\n                                                    };\n                                                    clipboard_img.innerHTML = \"<svg width='8' height='8' viewBox='0 0 8 8' fill='none' xmlns='http://www.w3.org/2000/svg'><path d='M7.4375 0.25H2.4375C2.35462 0.25 2.27513 0.282924 2.21653 0.341529C2.15792 0.400134 2.125 0.47962 2.125 0.5625V2.125H0.5625C0.47962 2.125 0.400134 2.15792 0.341529 2.21653C0.282924 2.27513 0.25 2.35462 0.25 2.4375V7.4375C0.25 7.52038 0.282924 7.59987 0.341529 7.65847C0.400134 7.71708 0.47962 7.75 0.5625 7.75H5.5625C5.64538 7.75 5.72487 7.71708 5.78347 7.65847C5.84208 7.59987 5.875 7.52038 5.875 7.4375V5.875H7.4375C7.52038 5.875 7.59987 5.84208 7.65847 5.78347C7.71708 5.72487 7.75 5.64538 7.75 5.5625V0.5625C7.75 0.47962 7.71708 0.400134 7.65847 0.341529C7.59987 0.282924 7.52038 0.25 7.4375 0.25ZM5.25 7.125H0.875V2.75H5.25V7.125ZM7.125 5.25H5.875V2.4375C5.875 2.35462 5.84208 2.27513 5.78347 2.21653C5.72487 2.15792 5.64538 2.125 5.5625 2.125H2.75V0.875H7.125V5.25Z' fill='#464158'/></svg>\";\n\n                                                    clipboard_div.appendChild(clipboard_img);\n                                                    div.appendChild(clipboard_div);\n                                                }\n                                            } else{\n                                                div.classList.add('grid-row','grid-std-cells');\n                                                if (item[attr] == null) {\n                                                    text = ' '\n                                                } else {\n                                                    text = String(item[attr])\n                                                }\n                                                if (text.length > 150){\n                                                    text = text.slice(0,150) + \"...\";\n                                                }\n                                                text = text.replaceAll(\"\\n\", \"</br>\");\n                                                div.innerHTML = text;\n                                            }\n                                            grid.appendChild(div);\n                                        }\n                                    table_index0a6cd1dfb87f457eb1903ca21c9f3d7c = table_index0a6cd1dfb87f457eb1903ca21c9f3d7c + 1;\n                                    })\n                                }\n                    }\n                    paginatedElements0a6cd1dfb87f457eb1903ca21c9f3d7c = paginate0a6cd1dfb87f457eb1903ca21c9f3d7c(element0a6cd1dfb87f457eb1903ca21c9f3d7c, page_size0a6cd1dfb87f457eb1903ca21c9f3d7c)\n                    buildGrid0a6cd1dfb87f457eb1903ca21c9f3d7c(paginatedElements0a6cd1dfb87f457eb1903ca21c9f3d7c, 1)\n                    document.getElementById('total0a6cd1dfb87f457eb1903ca21c9f3d7c').innerText = \"Total: \" + element0a6cd1dfb87f457eb1903ca21c9f3d7c.length\n                </script>\n            </div>\n            <div id='pag0a6cd1dfb87f457eb1903ca21c9f3d7c' class='paginationContainer'>\n                <script>\n                    function buildPaginationContainer0a6cd1dfb87f457eb1903ca21c9f3d7c(paginatedElements){\n                            let pageContainer = document.getElementById(\"pag0a6cd1dfb87f457eb1903ca21c9f3d7c\");\n                            for (let i = 0; i < paginatedElements.length; i++) {\n                                  let div = document.createElement(\"div\");\n                                  div.classList.add('page');\n                                  if(i===0) div.style.color = \"gray\";\n                                  else div.style.color = 'var(--tertiary-color, \"gray\")';\n                                  div.onclick = function(event) {\n                                      let indexes = document.getElementsByClassName('page');\n                                      for (let index of indexes) { index.style.color = 'var(--tertiary-color, \"gray\")' }\n                                      event.target.style.color = \"gray\";\n                                      setPage0a6cd1dfb87f457eb1903ca21c9f3d7c(i + 1);\n                                  };\n                                  div.innerText = i + 1;\n                                  pageContainer.appendChild(div);\n                            }\n                    }\n\n                    function setPage0a6cd1dfb87f457eb1903ca21c9f3d7c(newPage){\n                        pageIndex = newPage\n                        resetById0a6cd1dfb87f457eb1903ca21c9f3d7c('table0a6cd1dfb87f457eb1903ca21c9f3d7c')\n                        buildGrid0a6cd1dfb87f457eb1903ca21c9f3d7c(paginatedElements0a6cd1dfb87f457eb1903ca21c9f3d7c, pageIndex)\n                    }\n\n                    buildPaginationContainer0a6cd1dfb87f457eb1903ca21c9f3d7c(paginatedElements0a6cd1dfb87f457eb1903ca21c9f3d7c)\n                </script>\n            </div>\n        </div>\n"
     },
     "execution_count": 42,
     "metadata": {},
     "output_type": "execute_result"
    }
   ],
   "source": [
    "datasets = root_client.api.services.dataset.get_all()\n",
    "assert len(datasets) == 1\n",
    "datasets"
   ]
  },
  {
   "cell_type": "markdown",
   "id": "25",
   "metadata": {},
   "source": [
    "#### The first asset of the dataset contains the training and mock images"
   ]
  },
  {
   "cell_type": "code",
   "execution_count": 43,
   "id": "26",
   "metadata": {
    "ExecuteTime": {
     "end_time": "2024-03-19T11:25:10.273266Z",
     "start_time": "2024-03-19T11:25:08.727639Z"
    }
   },
   "outputs": [
    {
     "data": {
      "text/plain": "syft.service.dataset.dataset.Asset",
      "text/html": "\n            <style>\n            \n/* cyrillic-ext */\n@font-face {\n  font-family: 'Open Sans';\n  font-style: normal;\n  font-weight: 300 800;\n  font-stretch: 100%;\n  src: url(https://fonts.gstatic.com/s/opensans/v35/memvYaGs126MiZpBA-UvWbX2vVnXBbObj2OVTSKmu0SC55K5gw.woff2) format('woff2');\n  unicode-range: U+0460-052F, U+1C80-1C88, U+20B4, U+2DE0-2DFF, U+A640-A69F, U+FE2E-FE2F;\n}\n/* cyrillic */\n@font-face {\n  font-family: 'Open Sans';\n  font-style: normal;\n  font-weight: 300 800;\n  font-stretch: 100%;\n  src: url(https://fonts.gstatic.com/s/opensans/v35/memvYaGs126MiZpBA-UvWbX2vVnXBbObj2OVTSumu0SC55K5gw.woff2) format('woff2');\n  unicode-range: U+0301, U+0400-045F, U+0490-0491, U+04B0-04B1, U+2116;\n}\n/* greek-ext */\n@font-face {\n  font-family: 'Open Sans';\n  font-style: normal;\n  font-weight: 300 800;\n  font-stretch: 100%;\n  src: url(https://fonts.gstatic.com/s/opensans/v35/memvYaGs126MiZpBA-UvWbX2vVnXBbObj2OVTSOmu0SC55K5gw.woff2) format('woff2');\n  unicode-range: U+1F00-1FFF;\n}\n/* greek */\n@font-face {\n  font-family: 'Open Sans';\n  font-style: normal;\n  font-weight: 300 800;\n  font-stretch: 100%;\n  src: url(https://fonts.gstatic.com/s/opensans/v35/memvYaGs126MiZpBA-UvWbX2vVnXBbObj2OVTSymu0SC55K5gw.woff2) format('woff2');\n  unicode-range: U+0370-03FF;\n}\n/* hebrew */\n@font-face {\n  font-family: 'Open Sans';\n  font-style: normal;\n  font-weight: 300 800;\n  font-stretch: 100%;\n  src: url(https://fonts.gstatic.com/s/opensans/v35/memvYaGs126MiZpBA-UvWbX2vVnXBbObj2OVTS2mu0SC55K5gw.woff2) format('woff2');\n  unicode-range: U+0590-05FF, U+200C-2010, U+20AA, U+25CC, U+FB1D-FB4F;\n}\n/* vietnamese */\n@font-face {\n  font-family: 'Open Sans';\n  font-style: normal;\n  font-weight: 300 800;\n  font-stretch: 100%;\n  src: url(https://fonts.gstatic.com/s/opensans/v35/memvYaGs126MiZpBA-UvWbX2vVnXBbObj2OVTSCmu0SC55K5gw.woff2) format('woff2');\n  unicode-range: U+0102-0103, U+0110-0111, U+0128-0129, U+0168-0169, U+01A0-01A1, U+01AF-01B0, U+0300-0301, U+0303-0304, U+0308-0309, U+0323, U+0329, U+1EA0-1EF9, U+20AB;\n}\n/* latin-ext */\n@font-face {\n  font-family: 'Open Sans';\n  font-style: normal;\n  font-weight: 300 800;\n  font-stretch: 100%;\n  src: url(https://fonts.gstatic.com/s/opensans/v35/memvYaGs126MiZpBA-UvWbX2vVnXBbObj2OVTSGmu0SC55K5gw.woff2) format('woff2');\n  unicode-range: U+0100-02AF, U+0304, U+0308, U+0329, U+1E00-1E9F, U+1EF2-1EFF, U+2020, U+20A0-20AB, U+20AD-20CF, U+2113, U+2C60-2C7F, U+A720-A7FF;\n}\n/* latin */\n@font-face {\n  font-family: 'Open Sans';\n  font-style: normal;\n  font-weight: 300 800;\n  font-stretch: 100%;\n  src: url(https://fonts.gstatic.com/s/opensans/v35/memvYaGs126MiZpBA-UvWbX2vVnXBbObj2OVTS-mu0SC55I.woff2) format('woff2');\n  unicode-range: U+0000-00FF, U+0131, U+0152-0153, U+02BB-02BC, U+02C6, U+02DA, U+02DC, U+0304, U+0308, U+0329, U+2000-206F, U+2074, U+20AC, U+2122, U+2191, U+2193, U+2212, U+2215, U+FEFF, U+FFFD;\n}\n\n            .syft-asset {color: #464158;}\n            .syft-asset h3,\n            .syft-asset p\n              {font-family: 'Open Sans'}\n            .itables {font-family: 'Consolas', monospace, sans-serif;}\n            </style>\n\n            <div class=\"syft-asset\">\n            <h3>MNIST training images</h3>\n            <p>syft.service.dataset.dataset.MarkdownDescription</p>\n            <p><strong>Asset ID: </strong>ff1151a1e5a54c818e8a83c72184d149</p>\n            <p><strong>Action Object ID: </strong>f2cab133e41e4f1a86deb89fabb747e4</p>\n            <p><strong>Uploaded by: </strong>Jane Doe (info@openmined.org)</p>\n            <p><strong>Created on: </strong>2024-03-19 03:25:08</p>\n            <p><strong>Data:</strong></p>\n            [[0. 0. 0. ... 0. 0. 0.]\n [0. 0. 0. ... 0. 0. 0.]\n [0. 0. 0. ... 0. 0. 0.]\n ...\n [0. 0. 0. ... 0. 0. 0.]\n [0. 0. 0. ... 0. 0. 0.]\n [0. 0. 0. ... 0. 0. 0.]]\n            <p><strong>Mock Data:</strong></p>\n            [[9.45637522e-01 5.82918733e-01 2.45726636e-01 ... 4.11460936e-01\n  1.16146597e-01 5.11299565e-01]\n [5.72013081e-01 7.30179191e-01 5.16664921e-01 ... 5.07403925e-01\n  4.25126401e-01 5.55547288e-01]\n [6.98557642e-01 1.41920090e-04 4.28415761e-01 ... 7.79557374e-01\n  4.14904741e-01 3.92459726e-02]\n ...\n [5.66700707e-01 9.47970928e-01 6.77631341e-01 ... 5.02490141e-01\n  1.96103933e-01 3.77314146e-01]\n [5.48398512e-01 7.79688115e-01 3.60688900e-01 ... 1.07584160e-01\n  2.04421340e-01 4.88090921e-01]\n [5.29735261e-01 8.63445545e-01 9.11136926e-01 ... 7.25458851e-01\n  7.23560399e-01 6.29250062e-01]]\n            </div>",
      "text/markdown": "```python\nAsset: MNIST training images\nPointer Id: f2cab133e41e4f1a86deb89fabb747e4\nDescription: syft.service.dataset.dataset.MarkdownDescription\nTotal Data Subjects: 0\nShape: (1000, 784)\nContributors: 1\n\tJane Doe: info@openmined.org\n\n```"
     },
     "execution_count": 43,
     "metadata": {},
     "output_type": "execute_result"
    }
   ],
   "source": [
    "datasets[0].assets[0]"
   ]
  },
  {
   "cell_type": "markdown",
   "id": "27",
   "metadata": {},
   "source": [
    "#### The second asset contains the training and mock labels"
   ]
  },
  {
   "cell_type": "code",
   "execution_count": 44,
   "id": "28",
   "metadata": {
    "ExecuteTime": {
     "end_time": "2024-03-19T11:25:11.237382Z",
     "start_time": "2024-03-19T11:25:10.275317Z"
    }
   },
   "outputs": [
    {
     "data": {
      "text/plain": "syft.service.dataset.dataset.Asset",
      "text/html": "\n            <style>\n            \n/* cyrillic-ext */\n@font-face {\n  font-family: 'Open Sans';\n  font-style: normal;\n  font-weight: 300 800;\n  font-stretch: 100%;\n  src: url(https://fonts.gstatic.com/s/opensans/v35/memvYaGs126MiZpBA-UvWbX2vVnXBbObj2OVTSKmu0SC55K5gw.woff2) format('woff2');\n  unicode-range: U+0460-052F, U+1C80-1C88, U+20B4, U+2DE0-2DFF, U+A640-A69F, U+FE2E-FE2F;\n}\n/* cyrillic */\n@font-face {\n  font-family: 'Open Sans';\n  font-style: normal;\n  font-weight: 300 800;\n  font-stretch: 100%;\n  src: url(https://fonts.gstatic.com/s/opensans/v35/memvYaGs126MiZpBA-UvWbX2vVnXBbObj2OVTSumu0SC55K5gw.woff2) format('woff2');\n  unicode-range: U+0301, U+0400-045F, U+0490-0491, U+04B0-04B1, U+2116;\n}\n/* greek-ext */\n@font-face {\n  font-family: 'Open Sans';\n  font-style: normal;\n  font-weight: 300 800;\n  font-stretch: 100%;\n  src: url(https://fonts.gstatic.com/s/opensans/v35/memvYaGs126MiZpBA-UvWbX2vVnXBbObj2OVTSOmu0SC55K5gw.woff2) format('woff2');\n  unicode-range: U+1F00-1FFF;\n}\n/* greek */\n@font-face {\n  font-family: 'Open Sans';\n  font-style: normal;\n  font-weight: 300 800;\n  font-stretch: 100%;\n  src: url(https://fonts.gstatic.com/s/opensans/v35/memvYaGs126MiZpBA-UvWbX2vVnXBbObj2OVTSymu0SC55K5gw.woff2) format('woff2');\n  unicode-range: U+0370-03FF;\n}\n/* hebrew */\n@font-face {\n  font-family: 'Open Sans';\n  font-style: normal;\n  font-weight: 300 800;\n  font-stretch: 100%;\n  src: url(https://fonts.gstatic.com/s/opensans/v35/memvYaGs126MiZpBA-UvWbX2vVnXBbObj2OVTS2mu0SC55K5gw.woff2) format('woff2');\n  unicode-range: U+0590-05FF, U+200C-2010, U+20AA, U+25CC, U+FB1D-FB4F;\n}\n/* vietnamese */\n@font-face {\n  font-family: 'Open Sans';\n  font-style: normal;\n  font-weight: 300 800;\n  font-stretch: 100%;\n  src: url(https://fonts.gstatic.com/s/opensans/v35/memvYaGs126MiZpBA-UvWbX2vVnXBbObj2OVTSCmu0SC55K5gw.woff2) format('woff2');\n  unicode-range: U+0102-0103, U+0110-0111, U+0128-0129, U+0168-0169, U+01A0-01A1, U+01AF-01B0, U+0300-0301, U+0303-0304, U+0308-0309, U+0323, U+0329, U+1EA0-1EF9, U+20AB;\n}\n/* latin-ext */\n@font-face {\n  font-family: 'Open Sans';\n  font-style: normal;\n  font-weight: 300 800;\n  font-stretch: 100%;\n  src: url(https://fonts.gstatic.com/s/opensans/v35/memvYaGs126MiZpBA-UvWbX2vVnXBbObj2OVTSGmu0SC55K5gw.woff2) format('woff2');\n  unicode-range: U+0100-02AF, U+0304, U+0308, U+0329, U+1E00-1E9F, U+1EF2-1EFF, U+2020, U+20A0-20AB, U+20AD-20CF, U+2113, U+2C60-2C7F, U+A720-A7FF;\n}\n/* latin */\n@font-face {\n  font-family: 'Open Sans';\n  font-style: normal;\n  font-weight: 300 800;\n  font-stretch: 100%;\n  src: url(https://fonts.gstatic.com/s/opensans/v35/memvYaGs126MiZpBA-UvWbX2vVnXBbObj2OVTS-mu0SC55I.woff2) format('woff2');\n  unicode-range: U+0000-00FF, U+0131, U+0152-0153, U+02BB-02BC, U+02C6, U+02DA, U+02DC, U+0304, U+0308, U+0329, U+2000-206F, U+2074, U+20AC, U+2122, U+2191, U+2193, U+2212, U+2215, U+FEFF, U+FFFD;\n}\n\n            .syft-asset {color: #464158;}\n            .syft-asset h3,\n            .syft-asset p\n              {font-family: 'Open Sans'}\n            .itables {font-family: 'Consolas', monospace, sans-serif;}\n            </style>\n\n            <div class=\"syft-asset\">\n            <h3>MNIST training labels</h3>\n            <p>syft.service.dataset.dataset.MarkdownDescription</p>\n            <p><strong>Asset ID: </strong>f375dc80cde84a69ab6b3dc7bd305061</p>\n            <p><strong>Action Object ID: </strong>3a7ac457e610444fbca64199d540f312</p>\n            <p><strong>Uploaded by: </strong>Jane Doe (info@openmined.org)</p>\n            <p><strong>Created on: </strong>2024-03-19 03:25:08</p>\n            <p><strong>Data:</strong></p>\n            [[0. 0. 0. ... 0. 0. 0.]\n [1. 0. 0. ... 0. 0. 0.]\n [0. 0. 0. ... 0. 0. 0.]\n ...\n [1. 0. 0. ... 0. 0. 0.]\n [0. 0. 0. ... 0. 0. 0.]\n [0. 0. 0. ... 0. 0. 0.]]\n            <p><strong>Mock Data:</strong></p>\n            [[0. 0. 0. ... 0. 0. 0.]\n [0. 0. 0. ... 1. 0. 0.]\n [0. 0. 0. ... 0. 0. 0.]\n ...\n [0. 0. 0. ... 0. 0. 0.]\n [0. 0. 0. ... 0. 0. 0.]\n [0. 0. 0. ... 0. 0. 1.]]\n            </div>",
      "text/markdown": "```python\nAsset: MNIST training labels\nPointer Id: 3a7ac457e610444fbca64199d540f312\nDescription: syft.service.dataset.dataset.MarkdownDescription\nTotal Data Subjects: 0\nShape: (1000, 10)\nContributors: 1\n\tJane Doe: info@openmined.org\n\n```"
     },
     "execution_count": 44,
     "metadata": {},
     "output_type": "execute_result"
    }
   ],
   "source": [
    "datasets[0].assets[1]"
   ]
  },
  {
   "cell_type": "markdown",
   "id": "29",
   "metadata": {},
   "source": [
    "### The DO creates an account for the Data Scientist (DS)"
   ]
  },
  {
   "cell_type": "code",
   "execution_count": 45,
   "id": "30",
   "metadata": {
    "ExecuteTime": {
     "end_time": "2024-03-19T11:25:12.094546Z",
     "start_time": "2024-03-19T11:25:11.239379Z"
    }
   },
   "outputs": [],
   "source": [
    "register_result = root_client.register(\n",
    "    name=\"Sheldon Cooper\",\n",
    "    email=\"sheldon@caltech.edu\",\n",
    "    password=\"changethis\",\n",
    "    password_verify=\"changethis\",\n",
    "    institution=\"Caltech\",\n",
    "    website=\"https://www.caltech.edu/\",\n",
    ")"
   ]
  },
  {
   "cell_type": "code",
   "execution_count": 46,
   "id": "31",
   "metadata": {
    "ExecuteTime": {
     "end_time": "2024-03-19T11:25:12.109217Z",
     "start_time": "2024-03-19T11:25:12.097061Z"
    }
   },
   "outputs": [],
   "source": [
    "assert isinstance(register_result, sy.SyftSuccess)"
   ]
  },
  {
   "cell_type": "markdown",
   "id": "32",
   "metadata": {},
   "source": [
    "### 📓 Now switch to the [first DS's notebook](./01-data-scientist-submit-code.ipynb)"
   ]
  },
  {
   "cell_type": "code",
   "execution_count": 46,
   "id": "33",
   "metadata": {
    "ExecuteTime": {
     "end_time": "2024-03-19T11:25:12.124477Z",
     "start_time": "2024-03-19T11:25:12.111309Z"
    }
   },
   "outputs": [],
   "source": []
  }
 ],
 "metadata": {
  "kernelspec": {
   "display_name": "Python 3 (ipykernel)",
   "language": "python",
   "name": "python3"
  },
  "language_info": {
   "codemirror_mode": {
    "name": "ipython",
    "version": 3
   },
   "file_extension": ".py",
   "mimetype": "text/x-python",
   "name": "python",
   "nbconvert_exporter": "python",
   "pygments_lexer": "ipython3",
   "version": "3.9.16"
  },
  "toc": {
   "base_numbering": 1,
   "nav_menu": {},
   "number_sections": true,
   "sideBar": true,
   "skip_h1_title": false,
   "title_cell": "Table of Contents",
   "title_sidebar": "Contents",
   "toc_cell": false,
   "toc_position": {},
   "toc_section_display": true,
   "toc_window_display": true
  }
 },
 "nbformat": 4,
 "nbformat_minor": 5
}

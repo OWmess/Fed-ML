{
 "cells": [
  {
   "cell_type": "code",
   "execution_count": null,
   "id": "0",
   "metadata": {},
   "outputs": [],
   "source": [
    "# third party\n",
    "import matplotlib.pyplot as plt\n",
    "\n",
    "# relative import\n",
    "from mnist_dataset import mnist\n",
    "from mnist_dataset import mnist_raw\n",
    "import numpy as np\n",
    "\n",
    "# syft absolute\n",
    "import syft as sy\n",
    "\n",
    "print(f\"{sy.__version__ = }\")"
   ]
  },
  {
   "cell_type": "markdown",
   "id": "1",
   "metadata": {},
   "source": [
    "## 1. Launch the domain, upload the data"
   ]
  },
  {
   "cell_type": "code",
   "execution_count": 9,
   "id": "2",
   "metadata": {
    "ExecuteTime": {
     "end_time": "2024-04-07T14:46:41.191537Z",
     "start_time": "2024-04-07T14:46:34.131570Z"
    }
   },
   "outputs": [
    {
     "name": "stdout",
     "output_type": "stream",
     "text": [
      "Logged into <test_domain: High side Domain> as <info@openmined.org>\n"
     ]
    },
    {
     "data": {
      "text/plain": "SyftWarning: You are using a default password. Please change the password using `[your_client].me.set_password([new_password])`.",
      "text/html": "<div class=\"alert-warning\" style=\"padding:5px;\"><strong>SyftWarning</strong>: You are using a default password. Please change the password using `[your_client].me.set_password([new_password])`.</div><br />"
     },
     "metadata": {},
     "output_type": "display_data"
    }
   ],
   "source": [
    "# node = sy.orchestra.launch(name=\"mnist-domain\", dev_mode=True, reset=True)\n",
    "root_client = sy.login(email=\"info@openmined.org\", password=\"changethis\",port=8081)"
   ]
  },
  {
   "cell_type": "markdown",
   "id": "3",
   "metadata": {},
   "source": [
    "### Load the MNIST dataset"
   ]
  },
  {
   "cell_type": "markdown",
   "id": "4",
   "metadata": {},
   "source": [
    "Let's load the raw MNIST images and show with the `mnist_raw` function from [`mnist_datasets.py`](./datasets.py)"
   ]
  },
  {
   "cell_type": "code",
   "execution_count": null,
   "id": "5",
   "metadata": {},
   "outputs": [],
   "source": [
    "train_images, train_labels, _, _ = mnist_raw()"
   ]
  },
  {
   "cell_type": "code",
   "execution_count": null,
   "id": "6",
   "metadata": {},
   "outputs": [],
   "source": [
    "print(\"train image num: \"+str(len(train_images)))\n",
    "plt.imshow(train_images[0])"
   ]
  },
  {
   "cell_type": "code",
   "execution_count": null,
   "id": "7",
   "metadata": {},
   "outputs": [],
   "source": [
    "train_labels[0]"
   ]
  },
  {
   "cell_type": "code",
   "execution_count": null,
   "id": "8",
   "metadata": {},
   "outputs": [],
   "source": [
    "print(f\"{train_images.shape = }\")\n",
    "print(f\"{train_labels.shape = }\")"
   ]
  },
  {
   "cell_type": "markdown",
   "id": "9",
   "metadata": {},
   "source": [
    "### Processing: Flattening the MNIST images and apply one-hot encoding on the labels"
   ]
  },
  {
   "cell_type": "code",
   "execution_count": null,
   "id": "10",
   "metadata": {},
   "outputs": [],
   "source": [
    "train_images, train_labels, _, _ = mnist()"
   ]
  },
  {
   "cell_type": "markdown",
   "id": "11",
   "metadata": {},
   "source": [
    "### Get a subset of MNIST"
   ]
  },
  {
   "cell_type": "code",
   "execution_count": null,
   "id": "12",
   "metadata": {},
   "outputs": [],
   "source": [
    "num_samples = 1000"
   ]
  },
  {
   "cell_type": "code",
   "execution_count": null,
   "id": "13",
   "metadata": {},
   "outputs": [],
   "source": [
    "train_images = train_images[:num_samples, :]\n",
    "train_labels = train_labels[:num_samples, :]"
   ]
  },
  {
   "cell_type": "code",
   "execution_count": null,
   "id": "14",
   "metadata": {},
   "outputs": [],
   "source": [
    "print(f\"{train_images.shape = }\")\n",
    "print(f\"{train_labels.shape = }\")"
   ]
  },
  {
   "cell_type": "markdown",
   "id": "15",
   "metadata": {},
   "source": [
    "The `train_images` and `train_labels` are the private data. Let's create similar mock data with the same shape"
   ]
  },
  {
   "cell_type": "code",
   "execution_count": null,
   "id": "16",
   "metadata": {},
   "outputs": [],
   "source": [
    "mock_images = np.random.rand(num_samples, 784)\n",
    "mock_images.shape"
   ]
  },
  {
   "cell_type": "code",
   "execution_count": null,
   "id": "17",
   "metadata": {},
   "outputs": [],
   "source": [
    "mock_labels = np.eye(10)[np.random.choice(10, num_samples)]\n",
    "mock_labels.shape"
   ]
  },
  {
   "cell_type": "code",
   "execution_count": null,
   "id": "18",
   "metadata": {},
   "outputs": [],
   "source": [
    "assert mock_labels.shape == train_labels.shape\n",
    "assert mock_images.shape == train_images.shape"
   ]
  },
  {
   "cell_type": "markdown",
   "id": "19",
   "metadata": {},
   "source": [
    "### The DO uploads the data"
   ]
  },
  {
   "cell_type": "code",
   "execution_count": null,
   "id": "20",
   "metadata": {},
   "outputs": [],
   "source": [
    "dataset = sy.Dataset(\n",
    "    name=\"MNIST data\",\n",
    "    description=\"\"\"Contains the flattened training images and one-hot encoded training labels.\"\"\",\n",
    "    url=\"https://storage.googleapis.com/cvdf-datasets/mnist/\",\n",
    ")\n",
    "\n",
    "dataset.add_contributor(\n",
    "    role=sy.roles.UPLOADER,\n",
    "    name=\"Alice\",\n",
    "    email=\"alice@openmined.com\",\n",
    "    note=\"Alice is the data engineer at the OpenMined\",\n",
    ")\n",
    "\n",
    "dataset.contributors"
   ]
  },
  {
   "cell_type": "code",
   "execution_count": null,
   "id": "21",
   "metadata": {},
   "outputs": [],
   "source": [
    "asset_mnist_train_input = sy.Asset(\n",
    "    name=\"MNIST training images\",\n",
    "    description=\"\"\"The training images of the MNIST dataset\"\"\",\n",
    "    data=train_images,\n",
    "    mock=mock_images,\n",
    ")\n",
    "\n",
    "asset_mnist_train_labels = sy.Asset(\n",
    "    name=\"MNIST training labels\",\n",
    "    description=\"\"\"The training labels of MNIST dataset\"\"\",\n",
    "    data=train_labels,\n",
    "    mock=mock_labels,\n",
    ")\n",
    "\n",
    "dataset.add_asset(asset_mnist_train_input)\n",
    "dataset.add_asset(asset_mnist_train_labels)"
   ]
  },
  {
   "cell_type": "code",
   "execution_count": null,
   "id": "22",
   "metadata": {},
   "outputs": [],
   "source": [
    "root_client.upload_dataset(dataset)"
   ]
  },
  {
   "cell_type": "markdown",
   "id": "23",
   "metadata": {},
   "source": [
    "### The DO inspects the uploaded data"
   ]
  },
  {
   "cell_type": "code",
   "execution_count": 10,
   "id": "24",
   "metadata": {
    "ExecuteTime": {
     "end_time": "2024-04-07T14:46:48.333180Z",
     "start_time": "2024-04-07T14:46:48.246923Z"
    }
   },
   "outputs": [
    {
     "data": {
      "text/plain": "SyftWarning: You're performing an operation on high side domain, which could host datasets with private information.",
      "text/html": "<div class=\"alert-warning\" style=\"padding:5px;\"><strong>SyftWarning</strong>: You're performing an operation on high side domain, which could host datasets with private information.</div><br />"
     },
     "metadata": {},
     "output_type": "display_data"
    },
    {
     "data": {
      "text/plain": "DictTuple()",
      "text/html": "DictTuple()"
     },
     "execution_count": 10,
     "metadata": {},
     "output_type": "execute_result"
    }
   ],
   "source": [
    "datasets = root_client.api.services.dataset.get_all()\n",
    "# assert len(datasets) == 1\n",
    "datasets"
   ]
  },
  {
   "cell_type": "markdown",
   "id": "25",
   "metadata": {},
   "source": [
    "#### The first asset of the dataset contains the training and mock images"
   ]
  },
  {
   "cell_type": "code",
   "execution_count": 11,
   "id": "26",
   "metadata": {
    "ExecuteTime": {
     "end_time": "2024-04-07T14:46:51.057045Z",
     "start_time": "2024-04-07T14:46:51.015111Z"
    }
   },
   "outputs": [
    {
     "ename": "IndexError",
     "evalue": "tuple index out of range",
     "output_type": "error",
     "traceback": [
      "\u001B[0;31m---------------------------------------------------------------------------\u001B[0m",
      "\u001B[0;31mIndexError\u001B[0m                                Traceback (most recent call last)",
      "Cell \u001B[0;32mIn[11], line 1\u001B[0m\n\u001B[0;32m----> 1\u001B[0m \u001B[43mdatasets\u001B[49m\u001B[43m[\u001B[49m\u001B[38;5;241;43m0\u001B[39;49m\u001B[43m]\u001B[49m\u001B[38;5;241m.\u001B[39massets[\u001B[38;5;241m0\u001B[39m]\n",
      "File \u001B[0;32m~/anaconda3/envs/syft_env/lib/python3.10/site-packages/syft/types/dicttuple.py:237\u001B[0m, in \u001B[0;36mDictTuple.__getitem__\u001B[0;34m(self, _DictTuple__key)\u001B[0m\n\u001B[1;32m    231\u001B[0m     \u001B[38;5;28;01mreturn\u001B[39;00m \u001B[38;5;28mself\u001B[39m\u001B[38;5;241m.\u001B[39m\u001B[38;5;18m__class__\u001B[39m(\n\u001B[1;32m    232\u001B[0m         \u001B[38;5;28msuper\u001B[39m()\u001B[38;5;241m.\u001B[39m\u001B[38;5;21m__getitem__\u001B[39m(__key),\n\u001B[1;32m    233\u001B[0m         \u001B[38;5;28mlist\u001B[39m(\u001B[38;5;28mself\u001B[39m\u001B[38;5;241m.\u001B[39m__mapping\u001B[38;5;241m.\u001B[39mkeys())\u001B[38;5;241m.\u001B[39m\u001B[38;5;21m__getitem__\u001B[39m(__key),\n\u001B[1;32m    234\u001B[0m     )\n\u001B[1;32m    236\u001B[0m \u001B[38;5;28;01mif\u001B[39;00m \u001B[38;5;28misinstance\u001B[39m(__key, SupportsIndex):\n\u001B[0;32m--> 237\u001B[0m     \u001B[38;5;28;01mreturn\u001B[39;00m \u001B[38;5;28;43msuper\u001B[39;49m\u001B[43m(\u001B[49m\u001B[43m)\u001B[49m\u001B[38;5;241;43m.\u001B[39;49m\u001B[38;5;21;43m__getitem__\u001B[39;49m\u001B[43m(\u001B[49m\u001B[43m__key\u001B[49m\u001B[43m)\u001B[49m\n\u001B[1;32m    239\u001B[0m \u001B[38;5;28;01mreturn\u001B[39;00m \u001B[38;5;28msuper\u001B[39m()\u001B[38;5;241m.\u001B[39m\u001B[38;5;21m__getitem__\u001B[39m(\u001B[38;5;28mself\u001B[39m\u001B[38;5;241m.\u001B[39m__mapping[__key])\n",
      "\u001B[0;31mIndexError\u001B[0m: tuple index out of range"
     ]
    }
   ],
   "source": [
    "datasets[0].assets[0]"
   ]
  },
  {
   "cell_type": "code",
   "execution_count": null,
   "id": "9134dc0d3f0e19e9",
   "metadata": {
    "collapsed": false
   },
   "outputs": [],
   "source": []
  },
  {
   "cell_type": "markdown",
   "id": "27",
   "metadata": {},
   "source": [
    "#### The second asset contains the training and mock labels"
   ]
  },
  {
   "cell_type": "code",
   "execution_count": 12,
   "id": "28",
   "metadata": {
    "ExecuteTime": {
     "end_time": "2024-04-07T14:46:53.397412Z",
     "start_time": "2024-04-07T14:46:53.357573Z"
    }
   },
   "outputs": [
    {
     "ename": "IndexError",
     "evalue": "tuple index out of range",
     "output_type": "error",
     "traceback": [
      "\u001B[0;31m---------------------------------------------------------------------------\u001B[0m",
      "\u001B[0;31mIndexError\u001B[0m                                Traceback (most recent call last)",
      "Cell \u001B[0;32mIn[12], line 1\u001B[0m\n\u001B[0;32m----> 1\u001B[0m \u001B[43mdatasets\u001B[49m\u001B[43m[\u001B[49m\u001B[38;5;241;43m0\u001B[39;49m\u001B[43m]\u001B[49m\u001B[38;5;241m.\u001B[39massets[\u001B[38;5;241m1\u001B[39m]\n",
      "File \u001B[0;32m~/anaconda3/envs/syft_env/lib/python3.10/site-packages/syft/types/dicttuple.py:237\u001B[0m, in \u001B[0;36mDictTuple.__getitem__\u001B[0;34m(self, _DictTuple__key)\u001B[0m\n\u001B[1;32m    231\u001B[0m     \u001B[38;5;28;01mreturn\u001B[39;00m \u001B[38;5;28mself\u001B[39m\u001B[38;5;241m.\u001B[39m\u001B[38;5;18m__class__\u001B[39m(\n\u001B[1;32m    232\u001B[0m         \u001B[38;5;28msuper\u001B[39m()\u001B[38;5;241m.\u001B[39m\u001B[38;5;21m__getitem__\u001B[39m(__key),\n\u001B[1;32m    233\u001B[0m         \u001B[38;5;28mlist\u001B[39m(\u001B[38;5;28mself\u001B[39m\u001B[38;5;241m.\u001B[39m__mapping\u001B[38;5;241m.\u001B[39mkeys())\u001B[38;5;241m.\u001B[39m\u001B[38;5;21m__getitem__\u001B[39m(__key),\n\u001B[1;32m    234\u001B[0m     )\n\u001B[1;32m    236\u001B[0m \u001B[38;5;28;01mif\u001B[39;00m \u001B[38;5;28misinstance\u001B[39m(__key, SupportsIndex):\n\u001B[0;32m--> 237\u001B[0m     \u001B[38;5;28;01mreturn\u001B[39;00m \u001B[38;5;28;43msuper\u001B[39;49m\u001B[43m(\u001B[49m\u001B[43m)\u001B[49m\u001B[38;5;241;43m.\u001B[39;49m\u001B[38;5;21;43m__getitem__\u001B[39;49m\u001B[43m(\u001B[49m\u001B[43m__key\u001B[49m\u001B[43m)\u001B[49m\n\u001B[1;32m    239\u001B[0m \u001B[38;5;28;01mreturn\u001B[39;00m \u001B[38;5;28msuper\u001B[39m()\u001B[38;5;241m.\u001B[39m\u001B[38;5;21m__getitem__\u001B[39m(\u001B[38;5;28mself\u001B[39m\u001B[38;5;241m.\u001B[39m__mapping[__key])\n",
      "\u001B[0;31mIndexError\u001B[0m: tuple index out of range"
     ]
    }
   ],
   "source": [
    "datasets[0].assets[1]"
   ]
  },
  {
   "cell_type": "markdown",
   "id": "29",
   "metadata": {},
   "source": [
    "### The DO creates an account for the Data Scientist (DS)"
   ]
  },
  {
   "cell_type": "code",
   "execution_count": null,
   "id": "30",
   "metadata": {},
   "outputs": [],
   "source": [
    "register_result = root_client.register(\n",
    "    name=\"Sheldon Cooper\",\n",
    "    email=\"sheldon@caltech.edu\",\n",
    "    password=\"changethis\",\n",
    "    password_verify=\"changethis\",\n",
    "    institution=\"Caltech\",\n",
    "    website=\"https://www.caltech.edu/\",\n",
    ")"
   ]
  },
  {
   "cell_type": "code",
   "execution_count": null,
   "id": "31",
   "metadata": {},
   "outputs": [],
   "source": [
    "assert isinstance(register_result, sy.SyftSuccess)"
   ]
  },
  {
   "cell_type": "markdown",
   "id": "32",
   "metadata": {},
   "source": [
    "### 📓 Now switch to the [first DS's notebook](./01-data-scientist-submit-code.ipynb)"
   ]
  },
  {
   "cell_type": "code",
   "execution_count": null,
   "id": "33",
   "metadata": {},
   "outputs": [],
   "source": []
  }
 ],
 "metadata": {
  "kernelspec": {
   "display_name": "Python 3 (ipykernel)",
   "language": "python",
   "name": "python3"
  },
  "language_info": {
   "codemirror_mode": {
    "name": "ipython",
    "version": 3
   },
   "file_extension": ".py",
   "mimetype": "text/x-python",
   "name": "python",
   "nbconvert_exporter": "python",
   "pygments_lexer": "ipython3",
   "version": "3.10.13"
  },
  "toc": {
   "base_numbering": 1,
   "nav_menu": {},
   "number_sections": true,
   "sideBar": true,
   "skip_h1_title": false,
   "title_cell": "Table of Contents",
   "title_sidebar": "Contents",
   "toc_cell": false,
   "toc_position": {},
   "toc_section_display": true,
   "toc_window_display": true
  }
 },
 "nbformat": 4,
 "nbformat_minor": 5
}
